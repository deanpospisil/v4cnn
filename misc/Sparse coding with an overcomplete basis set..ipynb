{
 "cells": [
  {
   "cell_type": "markdown",
   "metadata": {},
   "source": [
    "<h1>Sparse coding with an overcomplete basis set.</h1>\n",
    "The authors begin with the assumptions of the efficient coding hypothesis, which is roughly that neurons have evolved to represent the enviroment with as few spikes as possible. Thus with respect to ethologically relevant stimuli, neurons will reduce statistical with respect to their own and other neurons spikes. For example two neurons with the same receptive field would not have the same stimuli selectivity or else they would be perfectly dependent.\n",
    "They go further in stating that one interpretation is that neurons would be pushed to represent independent events in the enviroment, thus giving rise to our perceptual representation of inndependent entities that give rise to an image (objects).\n",
    "They will interpret this goal into probabilistically defined objective for which a mostly linear model of a neural population will be tuned."
   ]
  },
  {
   "cell_type": "markdown",
   "metadata": {},
   "source": [
    "<h2>Image coding model</h2>\n",
    "<h3>Analysis</h3>\n",
    "A common code for an image $I$ is the set of coefficients $b$ resulting from the product of a set of basis functions $\\psi_i$ with the image $I$\n",
    "\n",
    "$$b_i = \\sum_{\\vec{x}_j} \\psi_i(\\vec{x}_j)I(\\vec{x}_j) $$\n"
   ]
  },
  {
   "cell_type": "markdown",
   "metadata": {},
   "source": [
    "Another way of writing this in matrix notation is:\n",
    "$$b=WI$$\n",
    "* $W_{i,j} = \\psi_i(\\vec{x}_j) $ and is $n \\times p$ with $n$ pixels, and $p$ basis functions.\n",
    "* $I_j = I(\\vec{x}_j)$ is our image unwrapped into a vector with $n$ pixels indexed by $j$"
   ]
  },
  {
   "cell_type": "markdown",
   "metadata": {},
   "source": [
    "<h3>Synthesis</h3>\n",
    "A different perspective for the code of an image is the linear superposition of a set of basis functions. \n",
    "\n",
    "$$I(\\vec{x}) = \\sum_{i} a_i \\phi(\\vec{x})$$"
   ]
  },
  {
   "cell_type": "markdown",
   "metadata": {},
   "source": [
    "* $I(\\vec{x})$ is again the values of our image.\n",
    "* But constructed from a linear combination of basis functions $\\phi(\\vec{x})$\n",
    "\n",
    "In some cases $ \\phi(\\vec{x}) = \\psi(\\vec{x})$, if they are an orthonormal basis. In this paper this will not be the case. They instead work with an overcomplete basis, where the number of basis functions exceeds the dimensionality of input, so that there is no unique set of coefficients $a_i$ to describe the image.\n",
    "\n",
    "One reason for this choice is that it might be more robust to noise, i.e. with more basis functions one is more likely to achieve high covariance with a given signal ...\n",
    "\n",
    "They also argue that images might have more independent causes then the dimensionality of the input. "
   ]
  },
  {
   "cell_type": "markdown",
   "metadata": {},
   "source": [
    "<h2>Probabilistic Framework </h2>"
   ]
  },
  {
   "cell_type": "markdown",
   "metadata": {},
   "source": [
    "The authors ask what $\\phi$ can account for the structure of natural image in terms of sparse independent events. \n",
    "Thus they want to make a distribution $P(I|\\phi)$ that best matches $P^*(I)$ the distribution of natural images. They specify this distribution as:\n",
    "$$P(I|\\phi) = \\int{P(I|a, \\phi)P(a) da}$$\n",
    "The probability of an image in this model is the product of the distribution of coefficients, and the probability of an image given a set of coefficients.\n",
    "\n",
    "<h3>$P(I|a, \\phi)$</h3>\n",
    "The imaging model we assume is:\n",
    "$$I(\\vec{x}) = \\sum_i a_i \\phi_i(\\vec{x}) + v(\\vec{x})$$\n",
    "Images are the sum of basis functions, and white gaussian noise.\n",
    "Thus the probability of an image arising from a set of coefficients $a$ is:\n",
    "\n",
    "$$\\large P(I|a, \\phi) = \\frac{1}{Z_{\\sigma N}}e^{\\frac{|I-a\\phi|^2}{2\\sigma^2}}$$\n",
    "\n",
    "* $Z$ normalizes the function to a PDF.\n",
    "* $\\sigma$ is our noise variance. \n",
    "* $N$ is the dimensionality of our image.\n",
    "\n",
    "* $|I-a\\phi|^2 = \\sum_\\vec{x} [ I(\\vec{x})-\\sum_i a_i \\phi_i(\\vec{x})]^2$ the squared distance between the image, and the image constructed by the coefficients. \n",
    "\n",
    "Since we are working with an overcomplete basis there will be infinite $a$ that could reproduce an image."
   ]
  },
  {
   "cell_type": "markdown",
   "metadata": {},
   "source": [
    "<h3>$P(a)$</h3>\n",
    "Here we impose the constraint of sparse independent features. \n",
    "\n",
    "* Sparsity: The marginals of $P(a)$ will have high kurtosis by choosing a distribution of the form.\n",
    "$$P(a_i) = \\frac{1}{Z_\\beta}e_{-\\beta S(a_i)} $$\n",
    "    * S shapes the distribution.\n",
    "    * $\\beta$ determines steepness\n",
    "    * $Z_{\\beta}$ normalizes to one. \n",
    "    * $\\beta = 1$ and $S(x)=log(1+x^2)$ corresponds to the Cauch distribution, which has a peak at zero and heavy tails\n",
    "   \n",
    "\n",
    "\n",
    "* Independence: The features will have independence imposed upon them by choosing their joint distribution to be the product of their marginals.\n",
    "\n",
    "$$P(a) = \\prod_i P(a_i)$$\n",
    "\n",
    "<h4>Determining fit of $P(I|\\phi)$ to  $P(I)^*$</h4>\n",
    "To measure the fit between the two distributions they use the Kullback-Leibler divergence:\n",
    "\n",
    "$$KL = \\int P(I)^* \\log \\frac{P(I)^*}{P(I|\\phi)} $$ \n",
    "\n",
    "This measure is equal to 0 when the two distributions are the same. It measures the average amount of information per natural image as to whether it came from the distribution of natural images as opposed to the proposed model.\n",
    "Since $P(I)^*$ is fixed we are just trying to maximize.\n",
    "$$\\log P(I|\\phi)$$\n",
    " "
   ]
  },
  {
   "cell_type": "markdown",
   "metadata": {},
   "source": [
    "<h4>Minimizing KL</h4>\n",
    "The authors recast the problem as one of minimization:\n",
    "\n",
    "$$E(I,a|\\phi) = -\\log P(I|\\phi)$$\n",
    "\n",
    "Taking the logarithm of $P(I|\\phi) = P(a) P(I|a, \\phi)$ both of which were cast as exponetial functions results in a cost function purely in terms of their exponents (presumably they dropped the normalizing constants):\n",
    "\n",
    "$$E(I,a|\\phi) = \\sum_{\\vec{x}}[I(\\vec{x})- \\sum_{i} a_i \\phi_i(\\vec{x})]^2 + \\lambda \\sum_i S(a_i)$$\n",
    "\n",
    "We can remember that this second term enforced a prior distribution on a, and the second the likelihood that an image came from a set of $a_i$.\n",
    "\n",
    "The authors develop their own homebrewed optimization method for a particular S. Dictionary learning has come far enough that there are established methods, and so I will use one from the SKlearn package."
   ]
  },
  {
   "cell_type": "code",
   "execution_count": 25,
   "metadata": {
    "collapsed": false
   },
   "outputs": [
    {
     "name": "stdout",
     "output_type": "stream",
     "text": [
      "Distorting image...\n",
      "Extracting reference patches...\n",
      "done in 29.05s.\n"
     ]
    }
   ],
   "source": [
    "from time import time\n",
    "\n",
    "import matplotlib.pyplot as plt\n",
    "%matplotlib inline  \n",
    "\n",
    "\n",
    "import numpy as np\n",
    "import scipy as sp\n",
    "\n",
    "from sklearn.decomposition import MiniBatchDictionaryLearning\n",
    "from sklearn.feature_extraction.image import extract_patches_2d\n",
    "from sklearn.feature_extraction.image import reconstruct_from_patches_2d\n",
    "from sklearn.utils.testing import SkipTest\n",
    "from sklearn.utils.fixes import sp_version\n",
    "\n",
    "if sp_version < (0, 12):\n",
    "    raise SkipTest(\"Skipping because SciPy version earlier than 0.12.0 and \"\n",
    "                   \"thus does not include the scipy.misc.face() image.\")\n",
    "try:\n",
    "    from scipy import misc\n",
    "    face = misc.face(gray=True)\n",
    "except AttributeError:\n",
    "    # Old versions of scipy have face in the top level package\n",
    "    face = sp.face(gray=True)\n",
    "\n",
    "# Convert from uint8 representation with values between 0 and 255 to\n",
    "# a floating point representation with values between 0 and 1.\n",
    "face = face / 255\n",
    "\n",
    "# downsample for higher speed\n",
    "#face = face[::2, ::2] + face[1::2, ::2] + face[::2, 1::2] + face[1::2, 1::2]\n",
    "#face /= 4.0\n",
    "height, width = face.shape\n",
    "\n",
    "# Distort the right half of the image\n",
    "print('Distorting image...')\n",
    "distorted = face.copy()\n",
    "#distorted[:, width // 2:] += 0.075 * np.random.randn(height, width // 2)\n",
    "# Extract all reference patches from the left half of the image\n",
    "print('Extracting reference patches...')\n",
    "t0 = time()\n",
    "patch_size = (24, 24)\n",
    "data = extract_patches_2d(distorted[:, :width // 2], patch_size)\n",
    "data = data.reshape(data.shape[0], -1)\n",
    "data -= np.mean(data, axis=0)\n",
    "data /= np.std(data, axis=0)\n",
    "print('done in %.2fs.' % (time() - t0))\n"
   ]
  },
  {
   "cell_type": "code",
   "execution_count": 26,
   "metadata": {
    "collapsed": false
   },
   "outputs": [
    {
     "name": "stdout",
     "output_type": "stream",
     "text": [
      "Learning the dictionary...\n",
      "done in 31.27s.\n"
     ]
    }
   ],
   "source": [
    "print('Learning the dictionary...')\n",
    "t0 = time()\n",
    "dico = MiniBatchDictionaryLearning(n_components=12, alpha=1, n_iter=1000)\n",
    "V = dico.fit(data).components_\n",
    "dt = time() - t0\n",
    "print('done in %.2fs.' % dt)"
   ]
  },
  {
   "cell_type": "code",
   "execution_count": 27,
   "metadata": {
    "collapsed": false
   },
   "outputs": [
    {
     "data": {
      "image/png": "[encoded data removed]",
      "text/plain": [
       "<matplotlib.figure.Figure at 0x13508cf98>"
      ]
     },
     "metadata": {},
     "output_type": "display_data"
    }
   ],
   "source": [
    "plt.figure(figsize=(4.2, 4))\n",
    "for i, comp in enumerate(V[:100]):\n",
    "    plt.subplot(10, 10, i + 1)\n",
    "    plt.imshow(comp.reshape(patch_size), cmap=plt.cm.gray_r,\n",
    "               interpolation='nearest')\n",
    "    plt.xticks(())\n",
    "    plt.yticks(())\n",
    "plt.suptitle('Dictionary learned from face patches\\n' +\n",
    "             'Train time %.1fs on %d patches' % (dt, len(data)),\n",
    "             fontsize=16)\n",
    "plt.subplots_adjust(0.08, 0.02, 0.92, 0.85, 0.08, 0.23)"
   ]
  }
 ],
 "metadata": {
  "kernelspec": {
   "display_name": "Python 3",
   "language": "python",
   "name": "python3"
  },
  "language_info": {
   "codemirror_mode": {
    "name": "ipython",
    "version": 3
   },
   "file_extension": ".py",
   "mimetype": "text/x-python",
   "name": "python",
   "nbconvert_exporter": "python",
   "pygments_lexer": "ipython3",
   "version": "3.5.1"
  }
 },
 "nbformat": 4,
 "nbformat_minor": 0
}
