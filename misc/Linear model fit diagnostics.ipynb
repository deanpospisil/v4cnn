{
 "cells": [
  {
   "cell_type": "markdown",
   "metadata": {},
   "source": [
    "A linear model typically takes the form:\n",
    "\n",
    "$$ y = X \\beta + \\epsilon$$\n",
    "\n",
    "* $y$ is the data which here is assumed to be a linear function of the colums of $X$.\n",
    "* $B$ is the vector of coeffecients that specify this function.\n",
    "* $\\epsilon$ is typically independent and identically distributed guassian noise,  independent of $y$."
   ]
  },
  {
   "cell_type": "markdown",
   "metadata": {},
   "source": [
    "In evaluating a fit we can check these assumptions, by making plots of diagnostic quantities for which normative values are well known.\n",
    "\n",
    "<h4>Plotting the fit.</h4>\n",
    "The first thing to do is plot the scatter of the fit.\n"
   ]
  },
  {
   "cell_type": "code",
   "execution_count": 15,
   "metadata": {
    "collapsed": false
   },
   "outputs": [
    {
     "data": {
      "text/plain": [
       "(-4.0, 3.0, -4.0, 5.0)"
      ]
     },
     "execution_count": 15,
     "metadata": {},
     "output_type": "execute_result"
    },
    {
     "data": {
      "image/png": "[encoded data removed]",
      "text/plain": [
       "<matplotlib.figure.Figure at 0x108288198>"
      ]
     },
     "metadata": {},
     "output_type": "display_data"
    }
   ],
   "source": [
    "import numpy as np\n",
    "import matplotlib.pyplot as plt\n",
    "%matplotlib inline  \n",
    "n = 100\n",
    "x = np.random.normal(size=n)\n",
    "y = x + np.random.normal(size=n)\n",
    "\n",
    "plt.scatter(x, y, s=.5)\n",
    "perc = 0.1\n",
    "maxest = max([max(x),max(y)])\n",
    "ax1.set_xlim(-(maxest+maxest*perc), maxest+maxest*perc)\n",
    "ax1.set_ylim(-(maxest+maxest*perc), maxest+maxest*perc)\n",
    "plt.axis('equal')\n"
   ]
  }
 ],
 "metadata": {
  "kernelspec": {
   "display_name": "Python 3",
   "language": "python",
   "name": "python3"
  },
  "language_info": {
   "codemirror_mode": {
    "name": "ipython",
    "version": 3
   },
   "file_extension": ".py",
   "mimetype": "text/x-python",
   "name": "python",
   "nbconvert_exporter": "python",
   "pygments_lexer": "ipython3",
   "version": "3.5.1"
  }
 },
 "nbformat": 4,
 "nbformat_minor": 0
}
