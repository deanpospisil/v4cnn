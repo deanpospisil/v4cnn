{
 "cells": [
  {
   "cell_type": "code",
   "execution_count": 1,
   "metadata": {
    "collapsed": true,
    "scrolled": true
   },
   "outputs": [],
   "source": [
    "#!/usr/bin/env python3\n",
    "# -*- coding: utf-8 -*-\n",
    "\"\"\"\n",
    "Created on Fri Oct  7 15:53:21 2016\n",
    "\n",
    "@author: dean\n",
    "\"\"\"\n",
    "\n",
    "import matplotlib.pyplot as plt \n",
    "import numpy as np\n",
    "from itertools import product\n",
    "import matplotlib.gridspec as gridspec\n",
    "import pandas as pd\n",
    "\n",
    "def naked_plot(axes):\n",
    "    for ax in  axes:\n",
    "        ax.set_xticks([])\n",
    "        ax.set_yticks([])\n",
    "        ax.spines['top'].set_visible(False)\n",
    "        ax.spines['right'].set_visible(False)\n",
    "        ax.spines['bottom'].set_visible(False)\n",
    "        ax.spines['left'].set_visible(False)\n",
    "        \n",
    "def fit_axis(ax, x, y, x_ax=True, y_ax=True, unity_ax=False):\n",
    "    maxest = max([max(x), max(y)])\n",
    "    minest = min([min(x), min(y)])\n",
    "    if unity_ax:\n",
    "        ax.plot([minest,maxest],[minest,maxest], lw=0.1, color='k');\n",
    "    if min(y)<0:\n",
    "        ax.plot([min(x),max(x)],[0,0], lw=.3, color='k');\n",
    "    if min(x)<0:\n",
    "        ax.plot([0,0],[min(y),max(y)], lw=.3, color='k');\n",
    "\n",
    "def simple_hist_pd(ax, var, orientation='vertical', fontsize=10):\n",
    "    n = ax.hist(var,histtype='step', align='mid',lw=0.5, \n",
    "                bins='auto', orientation=orientation)[0]\n",
    "    naked_plot([ax,])\n",
    "    the_range = [min(var), max(var)]\n",
    "    if orientation[0]=='v':  \n",
    "        ax.set_ylim(0, max(n)+max(n)*.15)\n",
    "        ax.set_xlim(the_range)\n",
    "        ax.text(np.max(var), -ax.get_ylim()[1]/10, np.round(np.max(var),2),ha='right',va='top', fontsize=fontsize )\n",
    "        ax.text(np.min(var), -ax.get_ylim()[1]/10, np.round(np.min(var),2),  ha='left',va='top', fontsize=fontsize)\n",
    "        spine_loc = 'bottom'\n",
    "    else:\n",
    "        ax.set_xlim(0, max(n)+max(n)*.15)\n",
    "        ax.set_ylim(the_range)\n",
    "        ax.text(-ax.get_xlim()[1]/10, np.max(var), np.round(np.max(var),2),  ha='right',va='top', fontsize=fontsize )\n",
    "        ax.text(-ax.get_xlim()[1]/10, np.min(var), np.round(np.min(var),2),  ha='right',va='bottom', fontsize=fontsize)\n",
    "        spine_loc = 'left'\n",
    "    ax.spines[spine_loc].set_visible(True)\n",
    "    ax.spines[spine_loc].set(lw=0.5)\n",
    "    ax.spines[spine_loc].set_bounds(the_range[0], the_range[1])\n",
    "    \n",
    "def small_mult_scatter_w_marg_pd(x, y):\n",
    "    m = y.shape[1]+1\n",
    "    n = x.shape[1]+1\n",
    "    left_bottom = m*n-n\n",
    "    y_hist_pos = list(range(0, m*n, n))[:-1]\n",
    "    x_hist_pos = list(range(left_bottom+1, m*n))\n",
    "    \n",
    "    scatter_inds = list(set(range(m*n)) - (set(x_hist_pos) | set(y_hist_pos) | set([left_bottom,])))\n",
    "    cart_inds = list(product(range(m-1), range(n-1)))\n",
    "    \n",
    "    gs = gridspec.GridSpec(m, n, width_ratios=[1,]+[8,]*(n-1),\n",
    "                            height_ratios=[8,]*(m-1)+[1,])\n",
    "    \n",
    "    plt.figure(figsize=(n*2,m*2))\n",
    "    fontsize=10\n",
    "    y_hists = []\n",
    "    for y_col, pos in zip(y, y_hist_pos):\n",
    "        _=plt.subplot(gs[pos])\n",
    "        simple_hist_pd(_, y[y_col], orientation='horizontal')\n",
    "        _.set_ylabel(str(y_col), rotation='horizontal', \n",
    "                     labelpad=fontsize*3, fontsize=fontsize)\n",
    "        y_hists.append(_)\n",
    "    x_hists = []\n",
    "    \n",
    "    for x_col, pos in zip(x, x_hist_pos):\n",
    "        _ = plt.subplot(gs[pos])\n",
    "        simple_hist_pd(_, x[x_col])\n",
    "        _.set_xlabel(str(x_col), rotation='horizontal', \n",
    "                      fontsize=fontsize, labelpad=fontsize*2)\n",
    "        x_hists.append(_)\n",
    "    \n",
    "    scatters = []    \n",
    "    for (y_ind, x_ind), pos in zip(cart_inds, scatter_inds):\n",
    "        _ = plt.subplot(gs[pos], sharex= x_hists[x_ind], sharey=y_hists[y_ind])\n",
    "        _.scatter(x.iloc[:, x_ind], y.iloc[:, y_ind], s=0.1)\n",
    "        fit_axis(_, x.iloc[:, x_ind], y.iloc[:, y_ind])\n",
    "        scatters.append(_)\n",
    "          \n",
    "    naked_plot(scatters)\n",
    "    \n",
    "    return scatters, x_hists, y_hists\n",
    "n=100\n",
    "d = np.random.normal(size=(n,3))\n",
    "df1 = pd.DataFrame(d, columns=['a','b', 'c'])\n",
    "d =np.random.normal(size=(n,1))\n",
    "df2 = pd.DataFrame(d, columns=['a'])\n",
    "\n",
    "\n"
   ]
  },
  {
   "cell_type": "markdown",
   "metadata": {},
   "source": [
    "A linear model typically takes the form:\n",
    "\n",
    "$$ y = X \\beta + \\epsilon$$\n",
    "\n",
    "* $y$ is the data which here is assumed to be a linear function of the colums of $X$.\n",
    "* $B$ is the vector of coeffecients that specify this function.\n",
    "* $\\epsilon$ is typically independent and identically distributed guassian noise,  independent of $y$."
   ]
  },
  {
   "cell_type": "markdown",
   "metadata": {},
   "source": [
    "In evaluating a fit we can check these assumptions, by making plots of diagnostic quantities for which normative values are well known.\n",
    "\n",
    "<h4>Plotting the fit.</h4>\n",
    "The first thing to do is plot the scatter of the fit.\n"
   ]
  },
  {
   "cell_type": "code",
   "execution_count": 13,
   "metadata": {
    "collapsed": false
   },
   "outputs": [
    {
     "data": {
      "image/png": "[encoded data removed]",
      "text/plain": [
       "<matplotlib.figure.Figure at 0x1161b6d68>"
      ]
     },
     "metadata": {},
     "output_type": "display_data"
    }
   ],
   "source": [
    "\n",
    "import numpy as np\n",
    "import matplotlib.pyplot as plt\n",
    "%matplotlib inline  \n",
    "n = 100\n",
    "x = np.random.normal(size=(n,1))\n",
    "y = x + np.random.normal(size=(n,1))\n",
    "\n",
    "res = y-x\n",
    "\n",
    "\n",
    "\n",
    "df1 = pd.DataFrame(x,columns=['x'])\n",
    "df2 = pd.DataFrame(np.concatenate([y,res],1),columns=['y', 'res'])\n",
    "scatters, x_hists, y_hists = small_mult_scatter_w_marg_pd(df1, df2)\n"
   ]
  }
 ],
 "metadata": {
  "kernelspec": {
   "display_name": "Python [conda env:py35]",
   "language": "python",
   "name": "conda-env-py35-py"
  },
  "language_info": {
   "codemirror_mode": {
    "name": "ipython",
    "version": 3
   },
   "file_extension": ".py",
   "mimetype": "text/x-python",
   "name": "python",
   "nbconvert_exporter": "python",
   "pygments_lexer": "ipython3",
   "version": "3.5.2"
  }
 },
 "nbformat": 4,
 "nbformat_minor": 0
}
