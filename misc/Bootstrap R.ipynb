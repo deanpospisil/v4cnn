{
 "cells": [
  {
   "cell_type": "markdown",
   "metadata": {},
   "source": [
    "<h4>The Bootstrap</h4>\n",
    "If I write down the results of flipping a coin 100 times, randomly selecting these entries is a good substitute for flipping the coin.\n",
    "The bootstrap is a method for finding $\\hat{\\theta}$ an estimate of the parameter $\\theta$ of an unknown cumulative distribution $F$. It does this by sampling from the cumulative empirical distribution $\\hat{F}$ which is constructed using $n$ samples from $F$ as such:\n",
    "\n",
    "$$ \\hat{F_x} = \\frac{1}{n} \\sum_{i=1}^n 1_{x_i \\le x} $$\n",
    "\n",
    "Why should we trust it? What kind of estimator is it?\n",
    "$$ n \\hat{F}_x= Binom(n, F(x)) $$\n",
    "It is unbiased.\n",
    "$$ E [ \\hat{F}_{x} ] = F(x) $$\n",
    "With variance:\n",
    "$$ \\sigma^2 = Var [ \\hat{F}_{x} ] = nF(x)(1-F(x)) $$\n",
    "Thus assuming IID draws and using the central limit theorem:\n",
    "$$ \\hat{F}_{x} - F(x) = N(0, \\frac{\\sigma}{\\sqrt{n}}) $$\n",
    "\n",
    "The idea is with $F \\approx \\hat{F}$ we sample from $\\hat{F}$ to give us analytically difficult $\\hat{\\theta}$.\n",
    "\n",
    "The simplest way to sample $\\hat{F}$ is to simply draw with replacement from our $x_i$.\n",
    "\n",
    "I am not sure why we don't use the CDF and why the properties above still apply doing this resampling.\n",
    "\n",
    "Lets try this where we are trying to estimate standard error of an estimate."
   ]
  },
  {
   "cell_type": "code",
   "execution_count": 199,
   "metadata": {
    "collapsed": true
   },
   "outputs": [],
   "source": [
    "import numpy as np\n",
    "import matplotlib.pyplot as plt\n",
    "%matplotlib inline     "
   ]
  },
  {
   "cell_type": "code",
   "execution_count": 526,
   "metadata": {
    "collapsed": false
   },
   "outputs": [
    {
     "name": "stderr",
     "output_type": "stream",
     "text": [
      "/Users/deanpospisil/anaconda3/lib/python3.5/site-packages/ipykernel/__main__.py:6: RuntimeWarning: invalid value encountered in double_scalars\n"
     ]
    },
    {
     "data": {
      "image/png": "[encoded data removed]",
      "text/plain": [
       "<matplotlib.figure.Figure at 0x108df3518>"
      ]
     },
     "metadata": {},
     "output_type": "display_data"
    },
    {
     "data": {
      "text/plain": [
       "(0, 1)"
      ]
     },
     "execution_count": 526,
     "metadata": {},
     "output_type": "execute_result"
    },
    {
     "data": {
      "image/png": "[encoded data removed]",
      "text/plain": [
       "<matplotlib.figure.Figure at 0x107e55f98>"
      ]
     },
     "metadata": {},
     "output_type": "display_data"
    }
   ],
   "source": [
    "def se_mean_boot(x, b):\n",
    "    n = len(x)\n",
    "    x_star = np.random.choice(x, size=(n, b))\n",
    "    theta_star_means = np.sum(x_star, 0, keepdims=1)/float(n)\n",
    "    theta_star_gmean = np.sum(theta_star_means, keepdims=1)/float(b)\n",
    "    se_b = np.sum(np.square(theta_star_means - theta_star_gmean))/(float(b-1))\n",
    "    se_b = np.sqrt(se_b)\n",
    "    return se_b\n",
    "\n",
    "n = 100\n",
    "b_s = np.arange(1,1000)\n",
    "sigma = 2.\n",
    "x = np.random.normal(0, scale=sigma, size=n)\n",
    "\n",
    "\n",
    "an_se = sigma/(float(n)**0.5)\n",
    "an_se_samp = np.std(x)/np.sqrt(n)\n",
    "\n",
    "se_b_s = [se_mean_boot(x, b) for b in b_s]\n",
    "    \n",
    "plt.plot([0, max(b_s)],[an_se, an_se], color='k')\n",
    "plt.plot([0, max(b_s)],[an_se_samp, an_se_samp], color='g')\n",
    "\n",
    "plt.scatter(b_s, se_b_s, s=0.1, color = 'r')\n",
    "plt.xlabel('b resamples');plt.ylabel('SE')\n",
    "plt.legend(['Analytic', 'SE formula', 'Estimate']);plt.show()\n",
    "plt.ylim(0,1)"
   ]
  },
  {
   "cell_type": "code",
   "execution_count": null,
   "metadata": {
    "collapsed": true
   },
   "outputs": [],
   "source": []
  },
  {
   "cell_type": "code",
   "execution_count": 502,
   "metadata": {
    "collapsed": false
   },
   "outputs": [
    {
     "name": "stdout",
     "output_type": "stream",
     "text": [
      "0.301903145056\n",
      "0.300901900667\n",
      "Boot 0.41\n",
      "SE 0.41\n"
     ]
    }
   ],
   "source": [
    "n = 20\n",
    "b = 1000\n",
    "sigma = 2\n",
    "x = np.random.normal(0, scale=sigma, size=n)\n",
    "\n",
    "se_b = se_mean_boot(x, b)\n",
    "se_est = np.std(x)/np.sqrt(n)\n",
    "\n",
    "print(se_b)\n",
    "print(se_est)\n",
    "test_rep = 100\n",
    "x_test = np.random.normal(0, scale=sigma, size=(test_rep, n))\n",
    "abs_est = np.abs(np.mean(x_test,1))\n",
    "p_b = np.sum(abs_est<se_b)/test_rep\n",
    "p_an = np.sum(abs_est<se_est)/test_rep\n",
    "\n",
    "print('Boot '+str(p_b))\n",
    "print('SE ' + str(p_an))\n"
   ]
  },
  {
   "cell_type": "code",
   "execution_count": null,
   "metadata": {
    "collapsed": true
   },
   "outputs": [],
   "source": []
  },
  {
   "cell_type": "code",
   "execution_count": null,
   "metadata": {
    "collapsed": true
   },
   "outputs": [],
   "source": []
  },
  {
   "cell_type": "code",
   "execution_count": null,
   "metadata": {
    "collapsed": true
   },
   "outputs": [],
   "source": []
  },
  {
   "cell_type": "code",
   "execution_count": null,
   "metadata": {
    "collapsed": true
   },
   "outputs": [],
   "source": []
  },
  {
   "cell_type": "code",
   "execution_count": 7,
   "metadata": {
    "collapsed": false
   },
   "outputs": [
    {
     "name": "stdout",
     "output_type": "stream",
     "text": [
      "(100, 1, 1)\n",
      "(100, 100, 10)\n"
     ]
    }
   ],
   "source": [
    "\n",
    "\n",
    "def corr(a, b):\n",
    "    a -= np.mean(a);b -= np.mean(b)\n",
    "    r=np.dot(a,b)/((np.sum(a**2)**0.5)*(np.sum(b**2)**0.5))\n",
    "    return r\n",
    "\n",
    "pi = np.pi\n",
    "n_reps = 100\n",
    "n_samples = 100\n",
    "n_phase = 10\n",
    "\n",
    "noise = np.random.uniform(size=(n_reps, n_samples, n_phase))\n",
    "\n",
    "phase_shift = np.linspace(0, pi/2. - (pi/2)/n_phase, n_phase\n",
    "                         ).reshape(1, 1, n_phase)\n",
    "t = np.linspace(0, 2*pi-2*pi/n_samples, n_samples\n",
    "               ).reshape(n_samples,1,1)\n",
    "\n",
    "a = np.cos(t)\n",
    "b = np.cos(phase_shift + t) + noise\n",
    "print(a.shape)\n",
    "print(b.shape)"
   ]
  },
  {
   "cell_type": "code",
   "execution_count": null,
   "metadata": {
    "collapsed": true
   },
   "outputs": [],
   "source": []
  },
  {
   "cell_type": "code",
   "execution_count": 1,
   "metadata": {
    "collapsed": false
   },
   "outputs": [
    {
     "name": "stderr",
     "output_type": "stream",
     "text": [
      "/Users/deanpospisil/anaconda3/lib/python3.5/site-packages/ipykernel/__main__.py:16: VisibleDeprecationWarning: using a non-integer number instead of an integer will result in an error in the future\n",
      "/Users/deanpospisil/anaconda3/lib/python3.5/site-packages/ipykernel/__main__.py:19: VisibleDeprecationWarning: using a non-integer number instead of an integer will result in an error in the future\n",
      "/Users/deanpospisil/anaconda3/lib/python3.5/site-packages/ipykernel/__main__.py:21: VisibleDeprecationWarning: using a non-integer number instead of an integer will result in an error in the future\n"
     ]
    },
    {
     "data": {
      "text/plain": [
       "\"\\nn_iter = 1000\\n\\n_ = plt.hist(b, histtype='step', bins=100)\\nplt.xlim(-0.5, 0.5)\\nplt.show()\\n\\ncorr_shuffle = [corr(a, np.random.choice(b, size=b.shape)) for i in range(n_iter)]\\n_ = plt.hist(corr_shuffle, histtype='step', bins=100)\\nplt.xlim(-0.5, 0.5)\\nplt.show()\\n\\ngaussian_shuffle = [corr(a, np.random.normal(size=b.shape)) for i in range(n_iter)]\\n_ = plt.hist(gaussian_shuffle, histtype='step', bins=100)\\nplt.xlim(-0.5, 0.5)\\nplt.show()\\n\""
      ]
     },
     "execution_count": 1,
     "metadata": {},
     "output_type": "execute_result"
    }
   ],
   "source": [
    "'''\n",
    "n_iter = 1000\n",
    "\n",
    "_ = plt.hist(b, histtype='step', bins=100)\n",
    "plt.xlim(-0.5, 0.5)\n",
    "plt.show()\n",
    "\n",
    "corr_shuffle = [corr(a, np.random.choice(b, size=b.shape)) for i in range(n_iter)]\n",
    "_ = plt.hist(corr_shuffle, histtype='step', bins=100)\n",
    "plt.xlim(-0.5, 0.5)\n",
    "plt.show()\n",
    "\n",
    "gaussian_shuffle = [corr(a, np.random.normal(size=b.shape)) for i in range(n_iter)]\n",
    "_ = plt.hist(gaussian_shuffle, histtype='step', bins=100)\n",
    "plt.xlim(-0.5, 0.5)\n",
    "plt.show()\n",
    "'''"
   ]
  },
  {
   "cell_type": "code",
   "execution_count": null,
   "metadata": {
    "collapsed": true
   },
   "outputs": [],
   "source": []
  }
 ],
 "metadata": {
  "kernelspec": {
   "display_name": "Python 3",
   "language": "python",
   "name": "python3"
  },
  "language_info": {
   "codemirror_mode": {
    "name": "ipython",
    "version": 3
   },
   "file_extension": ".py",
   "mimetype": "text/x-python",
   "name": "python",
   "nbconvert_exporter": "python",
   "pygments_lexer": "ipython3",
   "version": "3.5.1"
  }
 },
 "nbformat": 4,
 "nbformat_minor": 0
}
