{
 "cells": [
  {
   "cell_type": "code",
   "execution_count": 26,
   "metadata": {
    "collapsed": false
   },
   "outputs": [
    {
     "data": {
      "text/plain": [
       "(-1, 1)"
      ]
     },
     "execution_count": 26,
     "metadata": {},
     "output_type": "execute_result"
    },
    {
     "data": {
      "image/png": "[encoded data removed]",
      "text/plain": [
       "<matplotlib.figure.Figure at 0x10a59ad90>"
      ]
     },
     "metadata": {},
     "output_type": "display_data"
    }
   ],
   "source": [
    "import numpy as np\n",
    "import matplotlib.pyplot as plt\n",
    "%matplotlib inline     \n",
    "\n",
    "pi = np.pi\n",
    "n = 100.\n",
    "n_ps = 10.\n",
    "#phase_shift = np.linspace(0, pi/2. - (pi/2)/n_ps, n_ps).reshape(1, n_ps)\n",
    "t = np.linspace(0, 2*pi-2*pi/n, n).reshape(n)\n",
    "a = np.cos(t)\n",
    "b = np.cos(t)\n",
    "\n",
    "n_iter = 10000\n",
    "\n",
    "shuffle_product = [np.dot(a, np.random.permutation(b)) for i in range(n_iter)]\n",
    "\n",
    "plt.subplot(121)\n",
    "_ = plt.hist(shuffle_product,histtype='step', bins=100)\n",
    "plt.subplot(122)\n",
    "_ = plt.hist(shuffle_product/((np.sum(a**2)**0.5)*(np.sum(a**2)**0.5)), histtype='step', bins=100)\n",
    "plt.xlim(-1,1)"
   ]
  },
  {
   "cell_type": "code",
   "execution_count": null,
   "metadata": {
    "collapsed": true
   },
   "outputs": [],
   "source": []
  }
 ],
 "metadata": {
  "kernelspec": {
   "display_name": "Python 2",
   "language": "python",
   "name": "python2"
  },
  "language_info": {
   "codemirror_mode": {
    "name": "ipython",
    "version": 2
   },
   "file_extension": ".py",
   "mimetype": "text/x-python",
   "name": "python",
   "nbconvert_exporter": "python",
   "pygments_lexer": "ipython2",
   "version": "2.7.10"
  }
 },
 "nbformat": 4,
 "nbformat_minor": 0
}
