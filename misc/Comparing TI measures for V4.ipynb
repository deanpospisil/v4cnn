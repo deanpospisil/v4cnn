{
 "cells": [
  {
   "cell_type": "code",
   "execution_count": 36,
   "metadata": {
    "collapsed": true
   },
   "outputs": [],
   "source": [
    "import numpy as  np\n",
    "import scipy.io as  l\n",
    "import os, sys\n",
    "top_dir = os.getcwd().split('v4cnn')[0]\n",
    "sys.path.append(top_dir + 'xarray')\n",
    "top_dir = top_dir+ 'v4cnn/'\n",
    "sys.path.append(top_dir)\n",
    "sys.path.append(top_dir + 'common')\n",
    "\n",
    "import xarray as xr\n",
    "import d_misc as dm\n",
    "import pandas as pd\n",
    "import matplotlib.pyplot as plt\n",
    "%matplotlib inline     "
   ]
  },
  {
   "cell_type": "markdown",
   "metadata": {},
   "source": [
    "This function will do our permuting of cell responses over position."
   ]
  },
  {
   "cell_type": "code",
   "execution_count": 37,
   "metadata": {
    "collapsed": true
   },
   "outputs": [],
   "source": [
    "def permute_unit(unit):\n",
    "    unit = unit.dropna('x', 'all').dropna('shapes', 'all')\n",
    "    for x in range(len(unit.coords['x'])):\n",
    "        unit[x,:] = np.random.permutation(unit[x,:].values)\n",
    "    return unit "
   ]
  },
  {
   "cell_type": "markdown",
   "metadata": {},
   "source": [
    "The function below is the core of the TI measurement.\n",
    "\n",
    "It measures the fit of a unit's matrix $R$ of responses over position and stimuli, that can be accounted for by the outer product of a receptive field $\\vec{f}$, and  stimuli response profile $\\vec{s}$. \n",
    "$$ R = \\vec{f} \\otimes \\vec{s} $$\n",
    "We do this using SVD, for the $m$ shapes, and $n$ positions where typically $m>n$. We construct an $m \\ x \\ n$ matrix $R$\n",
    "\n",
    "For which we decompose using SVD:\n",
    "$$ R = U \\Sigma V $$\n",
    "\n",
    "$U$ is $m \\ x \\ n$, its columns are eigenvectors of $R$, and the 1st column is the least squares estimate of $\\vec{s}$.\n",
    "\n",
    "V is $n \\ x \\ n$, its rows are eigenvectors of $R$, and the first column is a least squares estimate of $\\vec{f}$.\n",
    "\n",
    "$\\Sigma$ is $n \\ x \\ n$ where $\\Sigma_{ii}=\\sigma_i$ are the sorted singular values of $R$, $\\sigma_1$ is the smallest possible value of  $\\sqrt{ \\sum  (R - \\vec{f} \\otimes \\vec{s})^2}$\n",
    "\n",
    "Finally we take as our measure of fit to the TI model we will call TIA:\n",
    "$$\\frac{\\sigma_1^2}{\\sum \\sigma_i^2}$$"
   ]
  },
  {
   "cell_type": "code",
   "execution_count": 49,
   "metadata": {
    "collapsed": true
   },
   "outputs": [],
   "source": [
    "def measure_TIA(unit):\n",
    "    unit = unit.dropna('x', 'all').dropna('shapes', 'all')\n",
    "    tot_var = (unit**2).sum()\n",
    "    s = np.linalg.svd(unit.values, compute_uv=False)[0]\n",
    "    return (s**2)/np.sum(s**2)\n",
    "#this is just for units that are not in a fancy data structure\n",
    "def measure_TIA_array(unit):\n",
    "    tot_var = np.sum((unit**2))\n",
    "    s = np.linalg.svd(unit, compute_uv=False)\n",
    "    return (s[0]**2)/np.sum(s**2)"
   ]
  },
  {
   "cell_type": "markdown",
   "metadata": {},
   "source": [
    "Unfortunately TIA has problems with overfitting.\n",
    "For example if we take response that has no translation invariance, i.e. each column is orthogonal TIA will not give it a score of 0."
   ]
  },
  {
   "cell_type": "code",
   "execution_count": 139,
   "metadata": {
    "collapsed": false
   },
   "outputs": [
    {
     "name": "stdout",
     "output_type": "stream",
     "text": [
      "[[ 2.  0.  0.  0.  0.]\n",
      " [ 0.  2.  0.  0.  0.]\n",
      " [ 0.  0.  2.  0.  0.]\n",
      " [ 0.  0.  0.  2.  0.]\n",
      " [ 0.  0.  0.  0.  2.]]\n",
      "TIA = 0.2\n"
     ]
    }
   ],
   "source": [
    "unit = np.eye(5)*2\n",
    "print(unit)\n",
    "print('TIA = ' + str(measure_TIA_array(unit)))"
   ]
  },
  {
   "cell_type": "markdown",
   "metadata": {},
   "source": [
    "It instead gives TIA of 0.2, why is this?"
   ]
  },
  {
   "cell_type": "code",
   "execution_count": 61,
   "metadata": {
    "collapsed": false
   },
   "outputs": [
    {
     "name": "stdout",
     "output_type": "stream",
     "text": [
      "The singular values of our unit:\n",
      "[ 2.  2.  2.  2.  2.]\n"
     ]
    }
   ],
   "source": [
    "print('The singular values of our unit:')\n",
    "print(np.linalg.svd(unit, compute_uv=False))"
   ]
  },
  {
   "cell_type": "markdown",
   "metadata": {},
   "source": [
    "Because the SVD guarantees only that $$\\sigma_1 \\ge \\dots \\ge \\sigma_n$$ and in the above case $$\\sigma_1 = \\dots = \\sigma_n$$ where $\\sigma_1$ accounts for $\\frac{1}{n}$ of the variance of a matrix, where $n$ is the number of positions, the smallest it possibly can be. This is uniquely the case where all columns of our matrix have equal length and are orthogonal.\n",
    "In this case $TIA>=\\frac{1}{n}$, our metric cannot reach 0. In addition TIA depends on the number of positions measured another severe shortcoming.\n",
    "\n",
    "To correct for this in general we can try to figure out, for the type of matrices we are dealing with, what $F$ is where $TIA>=F$\n",
    "\n",
    "Then we get a normalized value $$TIN = \\frac{TIA-F}{(1-F)}$$\n",
    "\n",
    "If for example we take $F = \\frac{1}{n}$ we are guranteed that TIN over all possible response matrices will range between 0, and 1. Lets check for our previous matrix: "
   ]
  },
  {
   "cell_type": "code",
   "execution_count": 146,
   "metadata": {
    "collapsed": false
   },
   "outputs": [
    {
     "name": "stdout",
     "output_type": "stream",
     "text": [
      "TIA = 0.2\n",
      "TIN = 0.0\n"
     ]
    }
   ],
   "source": [
    "unit = np.eye(5)\n",
    "TIA = measure_TIA_array(unit)\n",
    "F = 1./len(unit[:,])\n",
    "TIN = (TIA-F)/((1-F))\n",
    "print('TIA = ' + str(TIA))\n",
    "print('TIN = '+ str(TIN))"
   ]
  },
  {
   "cell_type": "raw",
   "metadata": {},
   "source": [
    "Great! Going forward in the spirit of our normalization we want to be able to make a fair comparison between responses of different RF and SP, such that a particular RF or SP doesn't inherently give the TI measure an advantage. In other words given an RF and SF we want the F that is the minimal possible TI."
   ]
  },
  {
   "cell_type": "markdown",
   "metadata": {},
   "source": [
    "<h4>Non-Uniform RF</h4>\n",
    "\n",
    "While $F = \\frac{1}{n}$ works in the previous case lets look at the case where we know our matrix does not have column vectors of equal length i.e. a non-uniform RF. Here we are essentially trying to remove receptive field size as a factor in TI i.e. just because two cells have different RF sizes, doesn't mean one should get better TI:"
   ]
  },
  {
   "cell_type": "code",
   "execution_count": 150,
   "metadata": {
    "collapsed": false
   },
   "outputs": [
    {
     "name": "stdout",
     "output_type": "stream",
     "text": [
      "Unit responses:\n",
      "[[ 0.  1.  1.  0.]\n",
      " [ 0.  1. -1.  0.]\n",
      " [ 0.  1.  1.  0.]\n",
      " [ 0.  1. -1.  0.]]\n",
      "RF:\n",
      "[ 0.  4.  4.  0.]\n"
     ]
    }
   ],
   "source": [
    "unit = np.zeros((4,4))\n",
    "unit[:,1] = 1\n",
    "unit[:,2] = [1,-1,1,-1]\n",
    "\n",
    "print('Unit responses:')\n",
    "print(unit)\n",
    "print('RF:')\n",
    "print(np.sum(unit**2,0))"
   ]
  },
  {
   "cell_type": "markdown",
   "metadata": {},
   "source": [
    "In this case the cell has a non-uniform RF.\n",
    "\n",
    "Keep in mind again the columns are orthogonal so intuitively we should expect a translation invariance of 0.\n",
    "\n",
    "What is our measure of TIA and TIN where $F = \\frac{1}{n}$, for this response matrix?"
   ]
  },
  {
   "cell_type": "code",
   "execution_count": 92,
   "metadata": {
    "collapsed": false
   },
   "outputs": [
    {
     "name": "stdout",
     "output_type": "stream",
     "text": [
      "F=0.2\n",
      "TIA = 0.5\n",
      "TIN = 0.375\n",
      "The singular values=\n",
      "[ 1.  1.  0.  0.  0.]\n"
     ]
    }
   ],
   "source": [
    "TIA = measure_TIA_array(unit)\n",
    "F = 1./len(unit[:,])\n",
    "print('F=' + str(F))\n",
    "TIN = (TIA-F)/(1-F)\n",
    "print('TIA = ' + str(TIA))\n",
    "print('TIN = '+ str(TIN))\n",
    "print('The singular values=')\n",
    "print(np.linalg.svd(unit, compute_uv=False))"
   ]
  },
  {
   "cell_type": "markdown",
   "metadata": {},
   "source": [
    "Terrible! It seems a non-translation invariant cell can take on translation invariance simply with a non-uniform receptive field, in this case a compact receptive field. \n",
    "\n",
    "Even if our columns are orthogonal $\\sigma_1$ will simply equal the magnitude of the greatest response position, or the center of the RF.\n",
    "\n",
    "In the case of all response matrices with non-uniform RF's what F do we need?\n",
    "$$F = \\frac{max_i(\\sum\\limits_{j=1}^m R_{i,j}^2)}{\\sum\\limits_{i,j}^{m,n} R_{i,j}^2}$$\n",
    "\n",
    "The variance of the position with the greatest variance divided by the total variance. \n",
    "\n",
    "Lets see how it works:"
   ]
  },
  {
   "cell_type": "code",
   "execution_count": 151,
   "metadata": {
    "collapsed": false
   },
   "outputs": [
    {
     "name": "stdout",
     "output_type": "stream",
     "text": [
      "[[ 0.  1.  1.  0.]\n",
      " [ 0.  1. -1.  0.]\n",
      " [ 0.  1.  1.  0.]\n",
      " [ 0.  1. -1.  0.]]\n",
      "TIA = 0.5\n",
      "TIN = 2.22044604925e-16\n"
     ]
    }
   ],
   "source": [
    "print(unit)\n",
    "TIA = measure_TIA_array(unit)\n",
    "F = max(np.sum(unit**2,0))/np.sum(unit**2)\n",
    "TIN = (TIA-F)/(1-F)\n",
    "print('TIA = ' + str(TIA))\n",
    "print('TIN = '+ str(TIN))"
   ]
  },
  {
   "cell_type": "markdown",
   "metadata": {},
   "source": [
    "Nice! The intuition behind this correction is that if we only know the length of each column vector, the direction of those vectors is still free to vary. With direction freely varying but length fixed vectors, what is the minimal singular value they could take on? It is the case where all columns are orthogonal to each other, and in this case the principal component will take on the direction of the longest vector, and will account for only its variance (because all other columns are orthogonal to it).\n",
    "Now lets try to add on one more constraint the SR"
   ]
  },
  {
   "cell_type": "code",
   "execution_count": 136,
   "metadata": {
    "collapsed": false
   },
   "outputs": [
    {
     "name": "stdout",
     "output_type": "stream",
     "text": [
      "Unit responses:\n",
      "[[ 1.   1.   1.   1.   1. ]\n",
      " [ 0.   0.   0.   0.   0.2]\n",
      " [ 0.   0.   0.   0.   0. ]\n",
      " [ 0.   0.   0.   0.   0. ]\n",
      " [ 0.   0.   0.   0.   0. ]]\n",
      "RF:\n",
      "[ 1.    1.    1.    1.    1.04]\n",
      "SP\n",
      "[ 5.    0.04  0.    0.    0.  ]\n"
     ]
    }
   ],
   "source": [
    "unit = np.zeros((5,5))\n",
    "unit[0,:] = 1\n",
    "unit[1,4] = 0.2\n",
    "\n",
    "print('Unit responses:')\n",
    "print(unit)\n",
    "print('RF:')\n",
    "print(np.sum(unit**2, 0))\n",
    "print('SP')\n",
    "print(np.sum(unit**2, 1))"
   ]
  },
  {
   "cell_type": "code",
   "execution_count": 137,
   "metadata": {
    "collapsed": false
   },
   "outputs": [
    {
     "name": "stdout",
     "output_type": "stream",
     "text": [
      "[[ 1.   1.   1.   1.   1. ]\n",
      " [ 0.   0.   0.   0.   0.2]\n",
      " [ 0.   0.   0.   0.   0. ]\n",
      " [ 0.   0.   0.   0.   0. ]\n",
      " [ 0.   0.   0.   0.   0. ]]\n",
      "F=0.206349206349\n",
      "TIA = 0.993661001273\n",
      "TIN = 0.992012861603\n",
      "The singular values=\n",
      "[ 5.00805145  0.03194855  0.          0.          0.        ]\n"
     ]
    }
   ],
   "source": [
    "print(unit)\n",
    "TIA = measure_TIA_array(unit)\n",
    "F = np.max([np.sum(unit**2,0)])/np.sum(unit**2)\n",
    "print('F='+str(F))\n",
    "TIN = (TIA-F)/(1-F)\n",
    "print('TIA = ' + str(TIA))\n",
    "print('TIN = '+ str(TIN))\n",
    "print('The singular values=')\n",
    "print(np.linalg.svd(unit, compute_uv=False)**2)      "
   ]
  },
  {
   "cell_type": "markdown",
   "metadata": {},
   "source": [
    " Our original motivation for F was that it would take on the minimal value a class of matrices under study could take. In this case we are studying matrices with a particular RF and SP. \n",
    "$$F = \\frac{max(max_i(\\sum\\limits_{j=1}^m \\ R_{i,j}^2),max_j(\\sum\\limits_{i=1}^n R_{i,j}^2))}{\\sum\\limits_{i,j}^{m,n} R_{i,j}^2}$$\n",
    "Lets see how it works"
   ]
  },
  {
   "cell_type": "code",
   "execution_count": 138,
   "metadata": {
    "collapsed": false
   },
   "outputs": [
    {
     "name": "stdout",
     "output_type": "stream",
     "text": [
      "[[ 1.   1.   1.   1.   1. ]\n",
      " [ 0.   0.   0.   0.   0.2]\n",
      " [ 0.   0.   0.   0.   0. ]\n",
      " [ 0.   0.   0.   0.   0. ]\n",
      " [ 0.   0.   0.   0.   0. ]]\n",
      "F=0.992063492063\n",
      "TIA = 0.993661001273\n",
      "TIN = 0.201286160336\n",
      "The singular values=\n",
      "[ 5.00805145  0.03194855  0.          0.          0.        ]\n"
     ]
    }
   ],
   "source": [
    "print(unit)\n",
    "TIA = measure_TIA_array(unit)\n",
    "F = np.max([np.sum(unit**2,0),np.sum(unit**2,1)])/np.sum(unit**2)\n",
    "print('F='+str(F))\n",
    "TIN = (TIA-F)/(1-F)\n",
    "print('TIA = ' + str(TIA))\n",
    "print('TIN = '+ str(TIN))\n",
    "print('The singular values=')\n",
    "print(np.linalg.svd(unit, compute_uv=False)**2)   "
   ]
  },
  {
   "cell_type": "markdown",
   "metadata": {},
   "source": [
    "<h4>Best possible and worst possible TI units</h4>\n",
    "Here I am making two pathological units, min_ti has 0 translation invariance, it is a fourier basis, and max_ti_unit"
   ]
  },
  {
   "cell_type": "code",
   "execution_count": 25,
   "metadata": {
    "collapsed": false,
    "scrolled": true
   },
   "outputs": [],
   "source": [
    "min_ti_unit = np.concatenate([np.imag(np.fft.rfft(np.eye(5)))[:,1:], np.real(np.fft.rfft(np.eye(5)))[:,1:]], axis =1)\n",
    "min_ti_unit = np.concatenate([min_ti_unit, np.zeros((51,4))])\n",
    "the_nans = (np.nan*np.ones((np.shape(min_ti_unit)[0],1)))\n",
    "min_ti_unit = np.concatenate([min_ti_unit, the_nans], 1)\n",
    "max_ti_unit = np.tile(min_ti_unit[:,0],(5,1)).T\n",
    "min_ti_unit = np.expand_dims(min_ti_unit.T, 0)\n",
    "min_ti_unit = xr.DataArray(min_ti_unit, dims=['unit','x','shapes'])\n",
    "max_ti_unit = np.expand_dims(max_ti_unit.T, 0)\n",
    "max_ti_unit = xr.DataArray(max_ti_unit, dims=['unit','x','shapes'])"
   ]
  },
  {
   "cell_type": "markdown",
   "metadata": {},
   "source": [
    "Here we can look at the values of these pathological cells, here rows are positions, and columns 'shapes'. Note the first just has the same response over each position, and the second has an orthogonal basis function of first sines then cosines. In this case the cells only respond to the first couple shapes."
   ]
  },
  {
   "cell_type": "code",
   "execution_count": 26,
   "metadata": {
    "collapsed": false
   },
   "outputs": [
    {
     "name": "stdout",
     "output_type": "stream",
     "text": [
      "Perfect TI\n",
      "[[ 0.    -0.951 -0.588  0.588  0.951  0.     0.     0.     0.     0.   ]\n",
      " [ 0.    -0.951 -0.588  0.588  0.951  0.     0.     0.     0.     0.   ]\n",
      " [ 0.    -0.951 -0.588  0.588  0.951  0.     0.     0.     0.     0.   ]\n",
      " [ 0.    -0.951 -0.588  0.588  0.951  0.     0.     0.     0.     0.   ]\n",
      " [ 0.    -0.951 -0.588  0.588  0.951  0.     0.     0.     0.     0.   ]]\n",
      "Perfectly terrible TI\n",
      "[[ 0.    -0.951 -0.588  0.588  0.951  0.     0.     0.     0.     0.   ]\n",
      " [ 0.    -0.588  0.951 -0.951  0.588  0.     0.     0.     0.     0.   ]\n",
      " [ 1.     0.309 -0.809 -0.809  0.309  0.     0.     0.     0.     0.   ]\n",
      " [ 1.    -0.809  0.309  0.309 -0.809  0.     0.     0.     0.     0.   ]]\n"
     ]
    }
   ],
   "source": [
    "print('Perfect TI')\n",
    "print(np.round(max_ti_unit[0,:,:10],3).values)\n",
    "print('Perfectly terrible TI')\n",
    "print(np.round(min_ti_unit[0,:4,:10],3).values)"
   ]
  },
  {
   "cell_type": "markdown",
   "metadata": {},
   "source": [
    "Now lets load up the V4 cells, and concatenate them with our artificial cells at the top of the unit by position by shape stack"
   ]
  },
  {
   "cell_type": "code",
   "execution_count": 27,
   "metadata": {
    "collapsed": true
   },
   "outputs": [],
   "source": [
    "fn = top_dir +'data/responses/v4_ti_resp.nc'\n",
    "v4 = xr.open_dataset(fn)['resp'].load()\n",
    "\n",
    "v4 = v4.transpose('unit', 'x', 'shapes') \n"
   ]
  },
  {
   "cell_type": "markdown",
   "metadata": {},
   "source": [
    "Lets look at the histogram of responses for the V4 cells."
   ]
  },
  {
   "cell_type": "code",
   "execution_count": 31,
   "metadata": {
    "collapsed": false
   },
   "outputs": [
    {
     "data": {
      "image/png": "[encoded data removed]",
      "text/plain": [
       "<matplotlib.figure.Figure at 0x103924780>"
      ]
     },
     "metadata": {},
     "output_type": "display_data"
    }
   ],
   "source": [
    "all_v4 = v4.values.ravel()\n",
    "all_v4 = all_v4[~np.isnan(all_v4)]\n",
    "_ = plt.hist(all_v4,log=True, bins=100)"
   ]
  },
  {
   "cell_type": "markdown",
   "metadata": {},
   "source": [
    "Looks good, seem to be the raw responses, without the mean subtracted.\n",
    "Now lets tack our pathological cells on to the V4 data set, and subtract the mean of the shapes at each position."
   ]
  },
  {
   "cell_type": "code",
   "execution_count": 32,
   "metadata": {
    "collapsed": true
   },
   "outputs": [],
   "source": [
    "v4 = xr.concat([min_ti_unit, max_ti_unit, v4], dim='unit')\n",
    "v4 = v4 - v4.mean('shapes')"
   ]
  },
  {
   "cell_type": "code",
   "execution_count": null,
   "metadata": {
    "collapsed": true
   },
   "outputs": [],
   "source": []
  }
 ],
 "metadata": {
  "kernelspec": {
   "display_name": "Python 3",
   "language": "python",
   "name": "python3"
  },
  "language_info": {
   "codemirror_mode": {
    "name": "ipython",
    "version": 3
   },
   "file_extension": ".py",
   "mimetype": "text/x-python",
   "name": "python",
   "nbconvert_exporter": "python",
   "pygments_lexer": "ipython3",
   "version": "3.5.1"
  }
 },
 "nbformat": 4,
 "nbformat_minor": 0
}
