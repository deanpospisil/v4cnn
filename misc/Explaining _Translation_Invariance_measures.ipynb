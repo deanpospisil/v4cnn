{
 "cells": [
  {
   "cell_type": "code",
   "execution_count": 1,
   "metadata": {
    "collapsed": true
   },
   "outputs": [],
   "source": [
    "import numpy as  np\n",
    "import scipy.io as  l\n",
    "import os, sys\n",
    "top_dir = os.getcwd().split('v4cnn')[0]\n",
    "sys.path.append(top_dir + 'xarray')\n",
    "top_dir = top_dir+ 'v4cnn/'\n",
    "sys.path.append(top_dir)\n",
    "sys.path.append(top_dir + 'common')\n",
    "import xarray as xr\n",
    "import d_misc as dm\n",
    "import pandas as pd\n",
    "import matplotlib.pyplot as plt\n",
    "%matplotlib inline     "
   ]
  },
  {
   "cell_type": "markdown",
   "metadata": {},
   "source": [
    "<h4>Measuring Translation Invariance</h4>\n",
    "A well accepted feature of the ventral stream is that it exhibits differing degrees of spatial invariance, it is thought this property allows for some of the invariances neccesary for object perception. Observations of this invariance find that it interacts with the receptive field of a cell. Typically one finds that the pattern of responses remains the same but the responses are scaled as one moves across the receptive field. To understand how this property develops it is important to quantify it in such a way that enables comparisons across diverse cell and stimuli types (i.e. different sized stimuli, receptive field sizes, stimuli selectivity).\n",
    "\n",
    "There are two avenues we try towards this measure:\n",
    "\n",
    "1. Measure a cells fit to a model of translation invariance with interpretable coefficients, here we use the singular value decomposition, and normalizations of this measure.\n",
    "\n",
    "2. Measure directly the similarity between responses at different positions, here we use covariance.\n",
    "\n",
    "We assume a unit has been stimulated with $m$ shapes, at $n$ positions where typically $m \\geq n$. This gives us an $m \\ x \\ n$ matrix of responses $R$.\n",
    "We model $R$ as the outer product of a receptive field $\\vec{f}$, and  stimuli response profile $\\vec{s}$. \n",
    "$$ \\hat{R} = \\vec{f} \\otimes \\vec{s} $$\n",
    "We do this by performing the singular value decomposition of $R$:\n",
    "$$ R = U \\Sigma V $$\n",
    "\n",
    "$U$ is $m \\ x \\ n$, its columns are eigenvectors of $R$, and the 1st column is the least squares estimate of $\\vec{s}$.\n",
    "\n",
    "V is $n \\ x \\ n$, its rows are eigenvectors of $R$, and the first column is a least squares estimate of $\\vec{f}$.\n",
    "\n",
    "$\\Sigma$ is an $n \\ x \\ n$ scaling matrix where $\\Sigma_{ii}=\\sigma_i$ are the sorted singular values of $R$, and $\\sigma_1$ is the smallest possible value of  $\\sqrt{ \\sum  (R - \\vec{f} \\otimes \\vec{s})^2}$\n",
    "\n",
    "Finally we take as our measure of fit to the TI model what we will call TIA:\n",
    "$$\\frac{\\sigma_1^2}{\\sum \\sigma_i^2}$$"
   ]
  },
  {
   "cell_type": "code",
   "execution_count": 2,
   "metadata": {
    "collapsed": true
   },
   "outputs": [],
   "source": [
    "def measure_TIA_array(unit):\n",
    "    s = np.linalg.svd(unit, compute_uv=False)\n",
    "    return (s[0]**2)/sum(s**2)"
   ]
  },
  {
   "cell_type": "markdown",
   "metadata": {},
   "source": [
    "Lets get some intuition for how this method works:"
   ]
  },
  {
   "cell_type": "code",
   "execution_count": 3,
   "metadata": {
    "collapsed": false
   },
   "outputs": [
    {
     "name": "stdout",
     "output_type": "stream",
     "text": [
      "Response Matrix:\n",
      "[[ 1.   0.7]\n",
      " [ 0.8  0. ]]\n"
     ]
    },
    {
     "name": "stderr",
     "output_type": "stream",
     "text": [
      "/Users/dean/anaconda/lib/python2.7/site-packages/matplotlib/collections.py:590: FutureWarning: elementwise comparison failed; returning scalar instead, but in the future will perform elementwise comparison\n",
      "  if self._edgecolors == str('face'):\n"
     ]
    },
    {
     "data": {
      "image/png": "[encoded data removed]",
      "text/plain": [
       "<matplotlib.figure.Figure at 0x103bbb9d0>"
      ]
     },
     "metadata": {},
     "output_type": "display_data"
    }
   ],
   "source": [
    "r = np.array([[1, 0.7],[.8, 0]])\n",
    "print('Response Matrix:')\n",
    "\n",
    "print(r)\n",
    "plt.figure()\n",
    "_ = plt.quiver(0,0,r[0,:],r[1,:],angles='xy',scale_units='xy',scale=1)\n",
    "plt.axis('equal');plt.xlim(-2,2);plt.ylim(-2,2);"
   ]
  },
  {
   "cell_type": "markdown",
   "metadata": {},
   "source": [
    "Here we have a response matrix with shapes along rows, and position along columns. The geometric picture of this situation is shown below, where we see two orthogonal vectors."
   ]
  },
  {
   "cell_type": "code",
   "execution_count": 4,
   "metadata": {
    "collapsed": false,
    "scrolled": false
   },
   "outputs": [
    {
     "name": "stdout",
     "output_type": "stream",
     "text": [
      "Our estimated stimuli profile\n",
      "[[ 0.86]\n",
      " [ 0.52]]\n",
      "Our estimated receptive field\n",
      "[ 0.9   0.43]\n",
      "Our singular values\n",
      "[ 1.4  0.4]\n",
      "Our estimated TI response\n",
      "[[ 1.09  0.51]\n",
      " [ 0.65  0.31]]\n"
     ]
    },
    {
     "data": {
      "image/png": "[encoded data removed]",
      "text/plain": [
       "<matplotlib.figure.Figure at 0x107c36e90>"
      ]
     },
     "metadata": {},
     "output_type": "display_data"
    }
   ],
   "source": [
    "pi = np.pi;theta = np.linspace(0,2*pi-2*pi/20.,20)\n",
    "circle = np.array([np.cos(theta), np.sin(theta)]).T\n",
    "res = np.dot(circle, r.T)\n",
    "_ = plt.quiver(0,0,r[0,:],r[1,:],angles='xy',\n",
    "               scale_units='xy',scale=1)\n",
    "u,s,v = np.linalg.svd(r)\n",
    "_ = plt.quiver(0,0, -u[0,0], -u[1,0],angles='xy',\n",
    "               scale_units='xy',scale=1, color='r')\n",
    "_ = plt.quiver(0,0, res[:,0], res[:,1], alpha=0.3,\n",
    "               angles='xy',scale_units='xy',scale=1, color='k', width=0.003)\n",
    "plt.axis('equal');plt.xlim(-2,2);plt.ylim(-2,2);\n",
    "print('Our estimated stimuli profile');print(np.round(-u[:,0].reshape(2,1),2))\n",
    "print('Our estimated receptive field');print(np.round(-v[0,:],2))\n",
    "print('Our singular values');print(np.round(s,2))\n",
    "print('Our estimated TI response');print(np.round(np.dot(u[:,0].reshape(2,1), v[0,:].reshape(1,2))*s[0],2)) "
   ]
  },
  {
   "cell_type": "markdown",
   "metadata": {},
   "source": [
    "In black we have the columns of $R$ , in red we have our estimated stimuli profile vector, <font color='red'> $ \\vec{s}$</font>.\n",
    "\n",
    "We can get some sense for what is special about $\\vec{s}$, by looking at the grey arrows, which are the result of taking a unit vector and seeing at many different directions how much it covaried with our response vectors, as shown by their length. \n",
    "\n",
    "You can see as it comes to point somewhere in the middle of the two response vectors, covariance is maximal, and this direction is $\\vec{s}$.\n",
    "\n"
   ]
  },
  {
   "cell_type": "code",
   "execution_count": 5,
   "metadata": {
    "collapsed": false
   },
   "outputs": [
    {
     "data": {
      "text/plain": [
       "[]"
      ]
     },
     "execution_count": 5,
     "metadata": {},
     "output_type": "execute_result"
    },
    {
     "data": {
      "image/png": "[encoded data removed]",
      "text/plain": [
       "<matplotlib.figure.Figure at 0x103bbbed0>"
      ]
     },
     "metadata": {},
     "output_type": "display_data"
    }
   ],
   "source": [
    "_ = plt.quiver(0,0,r[0,:],r[1,:],angles='xy',\n",
    "               scale_units='xy',scale=1)\n",
    "u,s,v = np.linalg.svd(r)\n",
    "rhat = np.dot(u[:,0].reshape(2,1), v[0,:].reshape(1,2))*s[0]\n",
    "_ = plt.quiver(0,0, rhat[0,0], rhat[1,0],angles='xy',\n",
    "               scale_units='xy',scale=1, color='g', alpha=0.5)\n",
    "_ = plt.quiver(0,0, rhat[0,1], rhat[1,1],angles='xy',\n",
    "               scale_units='xy',scale=1, color='b',alpha=0.5)\n",
    "plt.axis('equal');plt.xlim(-2,2);plt.ylim(-2,2);\n",
    "plt.plot()\n"
   ]
  },
  {
   "cell_type": "markdown",
   "metadata": {},
   "source": [
    "Our estimated receptive field,  $ \\ \\vec{f}$, scales $\\vec{s}$ to best fit each column of $R$. In blue you see the scaling of $\\vec{s}$ to match the smaller response, and in green you see its scaling for the larger response pointing to the upper-right.\n",
    "\n",
    "<h4>Negative receptive field profiles</h4>\n",
    "One final issue that should be taken into account is responses that are negatively correlated."
   ]
  },
  {
   "cell_type": "code",
   "execution_count": 6,
   "metadata": {
    "collapsed": false
   },
   "outputs": [
    {
     "name": "stdout",
     "output_type": "stream",
     "text": [
      "Response Matrix:\n",
      "[[ 1.  -0.7]\n",
      " [ 0.8  0. ]]\n",
      "Our estimated stimuli profile\n",
      "[[ 0.85707503]\n",
      " [ 0.5151916 ]]\n",
      "Our estimated receptive field\n",
      "[ 0.90408501 -0.42735265]\n",
      "Our singular values\n",
      "[ 1.4038816   0.39889404]\n",
      "Our estimated TI response\n",
      "[[ 1.0878239  -0.51420433]\n",
      " [ 0.65389577 -0.3090905 ]]\n"
     ]
    },
    {
     "data": {
      "image/png": "[encoded data removed]",
      "text/plain": [
       "<matplotlib.figure.Figure at 0x103bbbd10>"
      ]
     },
     "metadata": {},
     "output_type": "display_data"
    }
   ],
   "source": [
    "r = np.array([[1, -0.7],[.8, 0]])\n",
    "print('Response Matrix:');print(r)\n",
    "_ = plt.quiver(0,0,r[0,:],r[1,:],angles='xy',\n",
    "               scale_units='xy',scale=1)\n",
    "u,s,v = np.linalg.svd(r)\n",
    "rhat = np.dot(u[:,0].reshape(2,1), v[0,:].reshape(1,2))*s[0]\n",
    "_ = plt.quiver(0,0, rhat[0,0], rhat[1,0],angles='xy',\n",
    "               scale_units='xy',scale=1, color='g', alpha=0.5)\n",
    "_ = plt.quiver(0,0, rhat[0,1], rhat[1,1],angles='xy',\n",
    "               scale_units='xy',scale=1, color='b',alpha=0.5)\n",
    "plt.axis('equal');plt.xlim(-2,2);plt.ylim(-2,2);\n",
    "plt.plot()\n",
    "print('Our estimated stimuli profile');print(-u[:,0].reshape(2,1))\n",
    "print('Our estimated receptive field');print(-v[0,:])\n",
    "print('Our singular values');print(s)\n",
    "print('Our estimated TI response');print(np.dot(u[:,0].reshape(2,1), v[0,:].reshape(1,2))*s[0])"
   ]
  },
  {
   "cell_type": "markdown",
   "metadata": {},
   "source": [
    "Even though our two responses are actually anti-correlated SVD simply makes a portion of our receptive field negative to capture that variance. Intuitively this seems wrong as a cell that has the opposite response to stimuli at one position is not maintaining an invariant representation of those stimuli. \n",
    "\n",
    "One way to correct for this is to restrict our SVD to the subset of $R$'s columns with the highest non-negative covariance $R_+$. We will of course include the error resulting from those responses outside of this subset $R_-$.\n",
    "$$ \\sqrt{ \\sum (R_+ - \\vec{f}_+ \\otimes \\vec{s}_+)^2} + \\sum (R_-)^2$$ \n",
    "\n",
    "Finding this subset for large n may be non trivial as the number of possible subset is $2^n$. Albeit in a typical electrophysiological experiment n will be small.\n",
    "\n",
    "<h4>To mean substract or not?</h4>\n",
    "The entries of $R$ for a neurons responses are non-negative, thus for the raw data all of our vectors covariance will be non-negative. \n",
    "Except for some scaling of the identity matrix, the columns of positive matrices get pushed closer to each other around the direction of the mean vector $\\vec{\\mu}_i = \\frac{1}{\\sqrt{m}}$. \n",
    "\n",
    "For a positive distribution the variance is bounded by the mean and $\\vec{s}$ thus has a tendency towards $\\vec{\\mu} $ trivially inflating our TIA metric. We are interested whether a pattern of responses was maintained not the magnitude of $\\frac{\\mu}{\\sigma^2}$ for our columns."
   ]
  },
  {
   "cell_type": "markdown",
   "metadata": {},
   "source": [
    "<h3>TI irrelevant dependencies of TIA</h3>\n",
    "Unfortunately as we will see TIA is dependent on factors the are irrelevant to TI such as number of positions or stimuli, receptive field size, and stimuli selectivity. Below we will try our best to deal with these issues.\n",
    "<h4>TIA depends on the number of positions measured.</h4>\n",
    "For example if we take a response that has no translation invariance, i.e. each column is orthogonal TIA will not give it a score of 0."
   ]
  },
  {
   "cell_type": "code",
   "execution_count": 7,
   "metadata": {
    "collapsed": false,
    "scrolled": true
   },
   "outputs": [
    {
     "name": "stdout",
     "output_type": "stream",
     "text": [
      "[[ 2.  0.  0.  0.  0.]\n",
      " [ 0.  2.  0.  0.  0.]\n",
      " [ 0.  0.  2.  0.  0.]\n",
      " [ 0.  0.  0.  2.  0.]\n",
      " [ 0.  0.  0.  0.  2.]]\n",
      "TIA = 0.2\n"
     ]
    }
   ],
   "source": [
    "unit = np.eye(5)*2\n",
    "print(unit)\n",
    "print('TIA = ' + str(measure_TIA_array(unit)))"
   ]
  },
  {
   "cell_type": "markdown",
   "metadata": {},
   "source": [
    "It instead gives TIA of 0.2, why is this?"
   ]
  },
  {
   "cell_type": "code",
   "execution_count": 8,
   "metadata": {
    "collapsed": false,
    "scrolled": true
   },
   "outputs": [
    {
     "name": "stdout",
     "output_type": "stream",
     "text": [
      "The singular values of our unit:\n",
      "[ 2.  2.  2.  2.  2.]\n"
     ]
    }
   ],
   "source": [
    "print('The singular values of our unit:')\n",
    "print(np.linalg.svd(unit, compute_uv=False))"
   ]
  },
  {
   "cell_type": "markdown",
   "metadata": {},
   "source": [
    "Because the SVD guarantees only that $$\\sigma_1 \\ge \\dots \\ge \\sigma_n$$ and in the above case $$\\sigma_1 = \\dots = \\sigma_n$$ thus $$\\frac{\\sigma_1^2}{\\sum \\sigma_i^2} = \\frac{1}{n}$$ where $n$ is the number of positions. This is uniquely the case where all columns of our matrix have equal length and are orthogonal.\n",
    "In this case $TIA>=\\frac{1}{n}$ thus TIA depends on the number of positions measured which is irrelevant to TI.\n",
    "\n",
    "To correct for this in general we can try to figure out, for the type of matrices we are dealing with, what $F$ is where $TIA>=F$\n",
    "\n",
    "Then we get a normalized value $$TIN = \\frac{TIA-F}{(1-F)}$$\n",
    "\n",
    "If for example we take $F = \\frac{1}{n}$ we are guranteed that TIN over all possible response matrices will range between 0, and 1. Lets check for our previous matrix: "
   ]
  },
  {
   "cell_type": "code",
   "execution_count": 9,
   "metadata": {
    "collapsed": false,
    "scrolled": true
   },
   "outputs": [
    {
     "name": "stdout",
     "output_type": "stream",
     "text": [
      "TIA = 0.2\n",
      "TIN = 0.0\n"
     ]
    }
   ],
   "source": [
    "unit = np.eye(5)\n",
    "TIA = measure_TIA_array(unit)\n",
    "F = 1./len(unit[:,])\n",
    "TIN = (TIA-F)/((1-F))\n",
    "print('TIA = ' + str(TIA))\n",
    "print('TIN = '+ str(TIN))"
   ]
  },
  {
   "cell_type": "markdown",
   "metadata": {},
   "source": [
    "Great! \n",
    "Our ideal goal for TIN will be to make a comparison between response matrices of different RF and SP, such that a particular RF or SP doesn't advantage one cell over another, and when making a comparison we can assign some confidence to the amount of TI that resulted from trial to trial variation, and that deriving from the expected value of the response. \n",
    "\n",
    "Ideally we would know the distribution of TIA for IID noise under the constraint of a RF and SP, then assign some confidence to the likelihood of a difference in TI between two cells of differing RF and SP.\n",
    "\n",
    "For now we will potentially incorrectly assume that the distribution of TIA for IID noise with some RF and SP  are simple rescalings of each other, thus scaling our distribution between F and 1 equates the two distributions of TIN.\n",
    "In reality our distribution is probably more akin to an F-distribution.\n",
    "In other words given an RF and SF we want the F that is the minimal possible TI."
   ]
  },
  {
   "cell_type": "markdown",
   "metadata": {},
   "source": [
    "<h4>Non-Uniform RF</h4>\n",
    "\n",
    "While $F = \\frac{1}{n}$ works in the previous case lets look at the case where we know our matrix does not have column vectors of equal length i.e. a non-uniform RF. Here we are essentially trying to remove receptive field size as a factor in TI i.e. just because two cells have different RF sizes, doesn't mean one should get better TI:"
   ]
  },
  {
   "cell_type": "code",
   "execution_count": 10,
   "metadata": {
    "collapsed": false,
    "scrolled": true
   },
   "outputs": [
    {
     "name": "stdout",
     "output_type": "stream",
     "text": [
      "Unit responses:\n",
      "[[ 0.  1.  1.  0.]\n",
      " [ 0.  1. -1.  0.]\n",
      " [ 0.  1.  1.  0.]\n",
      " [ 0.  1. -1.  0.]]\n",
      "RF:\n",
      "[ 0.  4.  4.  0.]\n"
     ]
    }
   ],
   "source": [
    "unit = np.zeros((4,4))\n",
    "unit[:,1] = 1\n",
    "unit[:,2] = [1,-1,1,-1]\n",
    "\n",
    "print('Unit responses:')\n",
    "print(unit)\n",
    "print('RF:')\n",
    "print(np.sum(unit**2,0))"
   ]
  },
  {
   "cell_type": "markdown",
   "metadata": {},
   "source": [
    "In this case the cell has a non-uniform RF.\n",
    "\n",
    "Keep in mind again the columns are orthogonal so intuitively we should expect a translation invariance of 0.\n",
    "\n",
    "What is our measure of TIA and TIN where $F = \\frac{1}{n}$, for this response matrix?"
   ]
  },
  {
   "cell_type": "code",
   "execution_count": 11,
   "metadata": {
    "collapsed": false,
    "scrolled": true
   },
   "outputs": [
    {
     "name": "stdout",
     "output_type": "stream",
     "text": [
      "F=0.25\n",
      "TIA = 0.5\n",
      "TIN = 0.333333333333\n",
      "The singular values=\n",
      "[ 2.  2.  0.  0.]\n"
     ]
    }
   ],
   "source": [
    "TIA = measure_TIA_array(unit)\n",
    "F = 1./len(unit[:,])\n",
    "print('F=' + str(F))\n",
    "TIN = (TIA-F)/(1-F)\n",
    "print('TIA = ' + str(TIA))\n",
    "print('TIN = '+ str(TIN))\n",
    "print('The singular values=')\n",
    "print(np.linalg.svd(unit, compute_uv=False))"
   ]
  },
  {
   "cell_type": "markdown",
   "metadata": {},
   "source": [
    "Terrible! It seems a non-translation invariant cell can take on translation invariance simply with a non-uniform receptive field, in this case a compact receptive field. \n",
    "\n",
    "Even if our columns are orthogonal $\\sigma_1$ will simply equal the magnitude of the greatest response position, or the center of the RF.\n",
    "\n",
    "In the case of all response matrices with non-uniform RF's what F do we need?\n",
    "$$F = \\frac{max_i(\\sum\\limits_{j=1}^m R_{i,j}^2)}{\\sum\\limits_{i,j}^{m,n} R_{i,j}^2}$$\n",
    "\n",
    "The variance of the position with the greatest variance divided by the total variance. \n",
    "\n",
    "Lets see how it works:"
   ]
  },
  {
   "cell_type": "code",
   "execution_count": 12,
   "metadata": {
    "collapsed": false,
    "scrolled": true
   },
   "outputs": [
    {
     "name": "stdout",
     "output_type": "stream",
     "text": [
      "[[ 0.  1.  1.  0.]\n",
      " [ 0.  1. -1.  0.]\n",
      " [ 0.  1.  1.  0.]\n",
      " [ 0.  1. -1.  0.]]\n",
      "F= 0.5\n",
      "TIA = 0.5\n",
      "TIN = 2.22044604925e-16\n"
     ]
    }
   ],
   "source": [
    "print(unit)\n",
    "TIA = measure_TIA_array(unit)\n",
    "F = max(np.sum(unit**2,0))/np.sum(unit**2)\n",
    "TIN = (TIA-F)/(1-F)\n",
    "print('F= ' +str(F))\n",
    "print('TIA = ' + str(TIA))\n",
    "print('TIN = '+ str(TIN))\n"
   ]
  },
  {
   "cell_type": "markdown",
   "metadata": {},
   "source": [
    "Nice! The intuition behind this correction is that if we only know the length of each column vector, the direction of those vectors is still free to vary. With direction freely varying but length fixed vectors, what is the minimal singular value they could take on? It is the case where all columns are orthogonal to each other, and in this case the principal component will take on the direction of the longest vector, and will account for only its variance (because all other columns are orthogonal to it).\n",
    "Now lets try to add on one more constraint the SR"
   ]
  },
  {
   "cell_type": "markdown",
   "metadata": {},
   "source": [
    "Above I demonstrated this inuition where in red I show the two vectors composing my orthogonal response matrix with a non-uniform RF, and in blue I show the covariance (w/out mean subtracted) for unit vectors at the same angle as the blue with reference to the black, clearly the most covariance is to be found in the direction of the longest vector in my orthogonal matrix. The direction of my longest vector does in fact become my 1st estimated stimuli profile, and it is scaled exactly by its length."
   ]
  },
  {
   "cell_type": "markdown",
   "metadata": {},
   "source": [
    "<h4>Non-uniform SP</h4>\n",
    "Now lets see what happens when our SP constrains the dimensionality of our matrix, this reflects the possible case where our unit only responds strongly to a subset of the stimuli."
   ]
  },
  {
   "cell_type": "code",
   "execution_count": 13,
   "metadata": {
    "collapsed": false,
    "scrolled": true
   },
   "outputs": [
    {
     "name": "stdout",
     "output_type": "stream",
     "text": [
      "Unit responses:\n",
      "[[ 1.          0.70710678  0.        ]\n",
      " [ 0.          0.70710678  1.        ]\n",
      " [ 0.          0.          0.        ]]\n",
      "RF:\n",
      "[ 1.  1.  1.]\n",
      "SP\n",
      "[ 1.5  1.5  0. ]\n"
     ]
    }
   ],
   "source": [
    "unit = np.zeros((3,3))\n",
    "unit[0,0] = 1;unit[1,1] = 0.5**0.5;unit[0,1] = 0.5**0.5;unit[1,2] = 1\n",
    "\n",
    "print('Unit responses:')\n",
    "print(unit)\n",
    "print('RF:')\n",
    "print(np.sum(unit**2, 0))\n",
    "print('SP')\n",
    "print(np.sum(unit**2, 1))"
   ]
  },
  {
   "cell_type": "code",
   "execution_count": 14,
   "metadata": {
    "collapsed": false,
    "scrolled": true
   },
   "outputs": [
    {
     "name": "stdout",
     "output_type": "stream",
     "text": [
      "F=0.333333333333\n",
      "TIA = 0.666666666667\n",
      "TIN = 0.5\n",
      "The singular values=\n",
      "[ 2.  1.  0.]\n"
     ]
    }
   ],
   "source": [
    "TIA = measure_TIA_array(unit)\n",
    "F = np.max([np.sum(unit**2,0)])/np.sum(unit**2)\n",
    "print('F='+str(F))\n",
    "TIN = (TIA-F)/(1-F)\n",
    "print('TIA = ' + str(TIA))\n",
    "print('TIN = '+ str(TIN))\n",
    "print('The singular values=')\n",
    "print(np.linalg.svd(unit, compute_uv=False)**2)      "
   ]
  },
  {
   "cell_type": "markdown",
   "metadata": {},
   "source": [
    "Our original motivation for F was that it would take on the minimal value a class of matrices under study could take. In this case we are studying matrices with a particular RF and SP. For this matrix I posit for this RF and SP is the minimal possible value TIA can take on (for this dimensionality this is the lowest covariance two vectors orthogonal and one 45 degrees from both), which as you can see is .66, yet F is calculated as 0.33. \n",
    "\n",
    "We run into a problem attempting to find what F in general should be... when we know the RF, we fully determine the length of our column vectors, and the information from the SP constrains their direction. In the above case the compact SP constrains our column vectors to only point along the first two dimensions. Thus our assumption of orthogonality gives a much lower min TIA, then is actually the case.\n",
    "\n",
    "Our trick before was to find the minimal value of TIA by assuming orthogonality of our column vectors, but for some SF's this is not possible. Determining the minimal TIA for vectors that are not correlated, amounts to finding the arrangement of vectors with an RF and SP that minimizes R's covariance. \n",
    "\n",
    "One way around this is to assume we can achieve orthogonality and follow this assumption to its logical conclusion given our knowledge of the RF and SP. \n",
    "\n",
    "Lets start with the fact that $A$ and $A^T$ have the same singular values:"
   ]
  },
  {
   "cell_type": "code",
   "execution_count": 15,
   "metadata": {
    "collapsed": false,
    "scrolled": true
   },
   "outputs": [
    {
     "name": "stdout",
     "output_type": "stream",
     "text": [
      "[ 4.8941688   3.83006661  2.2749054   1.96671381  1.23424692]\n",
      "[ 4.8941688   3.83006661  2.2749054   1.96671381  1.23424692]\n"
     ]
    }
   ],
   "source": [
    "a = np.random.normal(size=[10,5])\n",
    "u,s,v = np.linalg.svd(a);print(s)\n",
    "u,s,v = np.linalg.svd(a.T);print(s)"
   ]
  },
  {
   "cell_type": "markdown",
   "metadata": {},
   "source": [
    "keeping the fantasy of orthogonality in mind we look at $A$ and $A^T$ and know the greatest singular value will be the highest variance of the columns of either. \n",
    "\n",
    "$$F = \\frac{max(max_i(\\sum\\limits_{j=1}^m \\ R_{i,j}^2),max_j(\\sum\\limits_{i=1}^n R_{i,j}^2))}{\\sum\\limits_{i,j}^{m,n} R_{i,j}^2}$$\n",
    "\n",
    "Keep in mind this gives a potentially conservative estimate of TIA as for some RF and SP's their forced correlation could make their floor TI much higher. Lets see how it works"
   ]
  },
  {
   "cell_type": "code",
   "execution_count": 16,
   "metadata": {
    "collapsed": false,
    "scrolled": true
   },
   "outputs": [
    {
     "name": "stdout",
     "output_type": "stream",
     "text": [
      "[[ 1.          0.70710678  0.        ]\n",
      " [ 0.          0.70710678  1.        ]\n",
      " [ 0.          0.          0.        ]]\n",
      "F=0.5\n",
      "TIA = 0.666666666667\n",
      "TIN = 0.333333333333\n",
      "The singular values=\n",
      "[ 2.  1.  0.]\n"
     ]
    }
   ],
   "source": [
    "unit = np.zeros((3,3));unit[0,0] = 1;unit[1,1] = 0.5**0.5;unit[0,1] = 0.5**0.5;unit[1,2] = 1\n",
    "TIA = measure_TIA_array(unit)\n",
    "F = np.max([np.sum(unit**2,0),np.sum(unit**2,1)])/np.sum(unit**2)\n",
    "print(unit)\n",
    "print('F='+str(F))\n",
    "TIN = (TIA-F)/(1-F)\n",
    "print('TIA = ' + str(TIA))\n",
    "print('TIN = '+ str(TIN))\n",
    "print('The singular values=')\n",
    "print(np.linalg.svd(unit, compute_uv=False)**2)   "
   ]
  },
  {
   "cell_type": "markdown",
   "metadata": {},
   "source": [
    "Here we see our F gets closer to the true F (in this case TIA) but doesn't quite make it. Thus our current F as it is will give preference to units with sparser responses over shapes.\n",
    "Another way is to estimate F, we randomly draw from vectors with the RF and SP, then take the minimal TIA. \n",
    "One initial try might be to permute the columns, then take the mean, or min as our F."
   ]
  },
  {
   "cell_type": "code",
   "execution_count": 17,
   "metadata": {
    "collapsed": false,
    "scrolled": true
   },
   "outputs": [
    {
     "name": "stdout",
     "output_type": "stream",
     "text": [
      "[[ 1.          0.70710678  0.        ]\n",
      " [ 0.          0.70710678  1.        ]\n",
      " [ 0.          0.          0.        ]]\n",
      "F estimate min(TIAS) :0.569035593729\n",
      "F estimate mean(TIAS) :0.674181770322\n",
      "F estimate median(TIAS) :0.666666666667\n",
      "[[ 0.  0.  0.]\n",
      " [ 1.  1.  1.]\n",
      " [ 0.  0.  0.]]\n",
      "F estimate min(TIAS) :0.333333333333\n",
      "F estimate mean(TIAS) :0.646924218494\n",
      "F estimate median(TIAS) :0.666666666667\n"
     ]
    }
   ],
   "source": [
    "def permute_unit(unit):\n",
    "    unit = unit.dropna('x', 'all').dropna('shapes', 'all')\n",
    "    for x in range(len(unit.coords['x'])):\n",
    "        unit[x,:] = np.random.permutation(unit[x,:].values)\n",
    "    return unit \n",
    "def permute_unit_array(unit):\n",
    "    for x in range(np.shape(unit)[1]):\n",
    "        unit[:,x] = np.random.permutation(unit[:,x])\n",
    "    return unit\n",
    "\n",
    "unit = np.zeros((3,3));unit[0,0] = 1;unit[1,1] = 0.5**0.5;unit[0,1] = 0.5**0.5;unit[1,2] = 1\n",
    "n_permute = 1000\n",
    "tias = []\n",
    "print(unit)\n",
    "for ind in range(n_permute):\n",
    "    tias.append(measure_TIA_array(permute_unit_array(unit)))\n",
    "print('F estimate min(TIAS) :' + str(min(tias)))\n",
    "print('F estimate mean(TIAS) :' + str(np.mean(tias)))\n",
    "print('F estimate median(TIAS) :' + str(np.median(tias)))\n",
    "unit[:,:] = 0\n",
    "unit[1,:] = 1\n",
    "print(unit)\n",
    "for ind in range(n_permute):\n",
    "    tias.append(measure_TIA_array(permute_unit_array(unit)))\n",
    "print('F estimate min(TIAS) :' + str(min(tias)))\n",
    "print('F estimate mean(TIAS) :' + str(np.mean(tias)))\n",
    "print('F estimate median(TIAS) :' + str(np.median(tias)))"
   ]
  },
  {
   "cell_type": "markdown",
   "metadata": {},
   "source": [
    "Uh oh! First of all our min sampled TIA, is lower than the true minimal TIA, and our mean TIA is higher but our median is actually perfect but this is an artifiact. As you can see I try the same procedure on anothe response, and get nowhere near the true F, which is in both cases because shuffling changes the dimensionality of my matrix.\n",
    "So what to do!? I'm not sure, to estimate stochastically we need to draw from matrices that satisfy the SP and RF (the simplest way would be to randomly flip signs, but this doesn't draw from all possible matrics). And to find F otherwise we need a method that finds the matrix with the same RF and SF that minimizes covariance, unfortunately the equation we must satisfy is a sum of squared entries in our matrix, so is undetermined, i.e. each entry could have been positive or negative, and still satisfy the equation.\n",
    "\n",
    "<h4>Alternative measures of TI</h4>\n",
    "Another option is to give up on an explicitly fit model of TI:\n",
    "$$ R = \\vec{f} \\otimes \\vec{s} $$\n",
    "We are in the end trying to measure covariance of responses by position, in our TIA measure we evaluated this by finding how well we could explain all of our variance with a single vector, another way we could go about it is by finding the total covariance and scaling it by the total possible covariance. \n",
    "\n",
    "$$\\frac{\\sum\\limits_{i,j \\in i \\neq j} \\vec{x}_{i} \\vec{x}_{j}^T }{\\sum\\limits_{i,j \\in i \\neq j} || \\vec{x}_{i} || \\ || \\vec{x}_{j} ||}$$\n",
    "\n",
    "This will have a couple nice properties, if the columns are orthogonal then it will give us zero. Thus it solves all our problems up to Non-Uniform RF, but in the cases where the direction of our column vectors becomes constrained it does not easily provide a solution."
   ]
  },
  {
   "cell_type": "code",
   "execution_count": 18,
   "metadata": {
    "collapsed": false
   },
   "outputs": [
    {
     "name": "stdout",
     "output_type": "stream",
     "text": [
      "[[ 0.  1.  1.  0.]\n",
      " [ 0.  1. -1.  0.]\n",
      " [ 0.  1.  1.  0.]\n",
      " [ 0.  1. -1.  0.]]\n",
      "total covariance: 0.0\n",
      "total possible covariance: 4.0\n",
      "normalized average covariance: 0.0\n",
      "[[ 0.  1.  4.  0.]\n",
      " [ 0.  1.  4.  0.]\n",
      " [ 0.  1.  4.  0.]\n",
      " [ 0.  1.  4.  0.]]\n",
      "total covariance: 16.0\n",
      "total possible covariance: 16.0\n",
      "normalized average covariance: 1.0\n",
      "[[ 1.          0.70710678  0.          0.        ]\n",
      " [ 0.          0.70710678  1.          0.        ]\n",
      " [ 0.          0.          0.          0.        ]\n",
      " [ 0.          0.          0.          0.        ]]\n",
      "total covariance: 1.41421356237\n",
      "total possible covariance: 3.0\n",
      "normalized average covariance: 0.471404520791\n"
     ]
    }
   ],
   "source": [
    "def norm_av_cov(unit, return_num_den=False):\n",
    "    cov = np.dot(unit.T, unit)\n",
    "    cov[np.diag_indices_from(cov)] = 0\n",
    "    numerator = np.sum(np.triu(cov))\n",
    "    vlength = np.linalg.norm(unit, axis=0)\n",
    "    max_cov = np.outer(vlength.T, vlength)\n",
    "    max_cov[np.diag_indices_from(max_cov)] = 0\n",
    "    denominator= np.sum(np.triu(max_cov))\n",
    "    if return_num_den:\n",
    "        return numerator, denominator\n",
    "    else:\n",
    "        return numerator/denominator\n",
    "units = []\n",
    "unit = np.zeros((4,4));unit[:,1] = 1;unit[:,2] = [1,-1,1,-1]  \n",
    "units.append(unit) \n",
    "unit = np.zeros((4,4));unit[:,1] = 1;unit[:,2] = 4\n",
    "units.append(unit) \n",
    "unit = np.zeros((4,4));unit[0,0] = 1;unit[1,1] = 0.5**0.5;unit[0,1] = 0.5**0.5;unit[1,2] = 1\n",
    "units.append(unit) \n",
    "\n",
    "for unit in units:\n",
    "    numerator, denominator = norm_av_cov(unit, return_num_den=True)\n",
    "    print(unit)\n",
    "    print('total covariance: ' + str(numerator))\n",
    "    print('total possible covariance: ' + str(denominator))\n",
    "    print('normalized average covariance: ' + str(numerator/denominator))\n"
   ]
  },
  {
   "cell_type": "markdown",
   "metadata": {},
   "source": [
    "In the first case we can see it avoids the problem of receptive field size. In the second case we see the method works to detect perfect translation invariance, but in the third case we see it does not avoid the problem of taking into account stimuli profiles where covariance is unavoidable.\n",
    "\n",
    "<h4>Geometric interpretation of the core issue with disentangling TI and SP</h4>\n",
    "Our fundamental problem is we are unable to confidently disentangle whether something is more TI because the cell is more invariant, or because only a small subset of the stimuli we chose drove the stimuli well. In geometric terms, when there is a non-uniform SP the direction of our responses is not homoschedastic, i.e. some entries of our columns have higher variance than others, and thus they are heteroschedastic favoring some directions over others. When some directions are apriori favored over others they will tend to be more correlated then their homoscedastic counterparts.\n"
   ]
  },
  {
   "cell_type": "code",
   "execution_count": 19,
   "metadata": {
    "collapsed": false
   },
   "outputs": [
    {
     "ename": "NameError",
     "evalue": "global name 'measure_TIA' is not defined",
     "output_type": "error",
     "traceback": [
      "\u001b[0;31m---------------------------------------------------------------------------\u001b[0m",
      "\u001b[0;31mNameError\u001b[0m                                 Traceback (most recent call last)",
      "\u001b[0;32m<ipython-input-19-a44203be6397>\u001b[0m in \u001b[0;36m<module>\u001b[0;34m()\u001b[0m\n\u001b[1;32m      7\u001b[0m \u001b[0;32mfor\u001b[0m \u001b[0mscale\u001b[0m \u001b[0;32min\u001b[0m \u001b[0mtop_scale\u001b[0m\u001b[0;34m:\u001b[0m\u001b[0;34m\u001b[0m\u001b[0m\n\u001b[1;32m      8\u001b[0m     \u001b[0munits\u001b[0m \u001b[0;34m=\u001b[0m \u001b[0mnp\u001b[0m\u001b[0;34m.\u001b[0m\u001b[0mrandom\u001b[0m\u001b[0;34m.\u001b[0m\u001b[0mnormal\u001b[0m\u001b[0;34m(\u001b[0m\u001b[0msize\u001b[0m\u001b[0;34m=\u001b[0m\u001b[0;34m(\u001b[0m\u001b[0;36m100\u001b[0m\u001b[0;34m,\u001b[0m \u001b[0;36m10\u001b[0m\u001b[0;34m,\u001b[0m \u001b[0;36m5\u001b[0m\u001b[0;34m)\u001b[0m\u001b[0;34m)\u001b[0m\u001b[0;34m*\u001b[0m\u001b[0mnp\u001b[0m\u001b[0;34m.\u001b[0m\u001b[0mlinspace\u001b[0m\u001b[0;34m(\u001b[0m\u001b[0;36m.1\u001b[0m\u001b[0;34m,\u001b[0m\u001b[0mscale\u001b[0m\u001b[0;34m,\u001b[0m\u001b[0;36m10\u001b[0m\u001b[0;34m)\u001b[0m\u001b[0;34m.\u001b[0m\u001b[0mreshape\u001b[0m\u001b[0;34m(\u001b[0m\u001b[0;34m(\u001b[0m\u001b[0;36m1\u001b[0m\u001b[0;34m,\u001b[0m\u001b[0;36m10\u001b[0m\u001b[0;34m,\u001b[0m\u001b[0;36m1\u001b[0m\u001b[0;34m)\u001b[0m\u001b[0;34m)\u001b[0m\u001b[0;34m\u001b[0m\u001b[0m\n\u001b[0;32m----> 9\u001b[0;31m     \u001b[0mtia\u001b[0m \u001b[0;34m=\u001b[0m \u001b[0mcalc_tia_over_units\u001b[0m\u001b[0;34m(\u001b[0m\u001b[0munits\u001b[0m\u001b[0;34m)\u001b[0m\u001b[0;34m\u001b[0m\u001b[0m\n\u001b[0m\u001b[1;32m     10\u001b[0m     \u001b[0mav_cov\u001b[0m \u001b[0;34m=\u001b[0m \u001b[0mnp\u001b[0m\u001b[0;34m.\u001b[0m\u001b[0mmean\u001b[0m\u001b[0;34m(\u001b[0m\u001b[0;34m[\u001b[0m\u001b[0mnorm_av_cov\u001b[0m\u001b[0;34m(\u001b[0m\u001b[0munit\u001b[0m\u001b[0;34m)\u001b[0m \u001b[0;32mfor\u001b[0m \u001b[0munit\u001b[0m \u001b[0;32min\u001b[0m \u001b[0munits\u001b[0m\u001b[0;34m]\u001b[0m\u001b[0;34m)\u001b[0m\u001b[0;34m\u001b[0m\u001b[0m\n\u001b[1;32m     11\u001b[0m     \u001b[0mplt\u001b[0m\u001b[0;34m.\u001b[0m\u001b[0mfigure\u001b[0m\u001b[0;34m(\u001b[0m\u001b[0;34m)\u001b[0m\u001b[0;34m\u001b[0m\u001b[0m\n",
      "\u001b[0;32m<ipython-input-19-a44203be6397>\u001b[0m in \u001b[0;36mcalc_tia_over_units\u001b[0;34m(units)\u001b[0m\n\u001b[1;32m      1\u001b[0m \u001b[0;32mdef\u001b[0m \u001b[0mcalc_tia_over_units\u001b[0m\u001b[0;34m(\u001b[0m\u001b[0munits\u001b[0m\u001b[0;34m)\u001b[0m\u001b[0;34m:\u001b[0m\u001b[0;34m\u001b[0m\u001b[0m\n\u001b[1;32m      2\u001b[0m     \u001b[0mda_units\u001b[0m \u001b[0;34m=\u001b[0m \u001b[0mxr\u001b[0m\u001b[0;34m.\u001b[0m\u001b[0mDataArray\u001b[0m\u001b[0;34m(\u001b[0m\u001b[0munits\u001b[0m\u001b[0;34m,\u001b[0m \u001b[0mdims\u001b[0m\u001b[0;34m=\u001b[0m\u001b[0;34m[\u001b[0m\u001b[0;34m'unit'\u001b[0m\u001b[0;34m,\u001b[0m \u001b[0;34m'shapes'\u001b[0m\u001b[0;34m,\u001b[0m \u001b[0;34m'x'\u001b[0m\u001b[0;34m]\u001b[0m\u001b[0;34m)\u001b[0m\u001b[0;34m\u001b[0m\u001b[0m\n\u001b[0;32m----> 3\u001b[0;31m     \u001b[0;32mreturn\u001b[0m \u001b[0mnp\u001b[0m\u001b[0;34m.\u001b[0m\u001b[0marray\u001b[0m\u001b[0;34m(\u001b[0m\u001b[0;34m[\u001b[0m\u001b[0mmeasure_TIA\u001b[0m\u001b[0;34m(\u001b[0m\u001b[0munit\u001b[0m\u001b[0;34m)\u001b[0m \u001b[0;32mfor\u001b[0m \u001b[0munit\u001b[0m \u001b[0;32min\u001b[0m \u001b[0mda_units\u001b[0m\u001b[0;34m]\u001b[0m\u001b[0;34m)\u001b[0m\u001b[0;34m\u001b[0m\u001b[0m\n\u001b[0m\u001b[1;32m      4\u001b[0m \u001b[0;34m\u001b[0m\u001b[0m\n\u001b[1;32m      5\u001b[0m \u001b[0;34m\u001b[0m\u001b[0m\n",
      "\u001b[0;31mNameError\u001b[0m: global name 'measure_TIA' is not defined"
     ]
    }
   ],
   "source": [
    "def calc_tia_over_units(units):\n",
    "    da_units = xr.DataArray(units, dims=['unit', 'shapes', 'x'])\n",
    "    return np.array([measure_TIA(unit) for unit in da_units])\n",
    "    \n",
    "\n",
    "top_scale = [0.1,2.,4]\n",
    "for scale in top_scale:\n",
    "    units = np.random.normal(size=(100, 10, 5))*np.linspace(.1,scale,10).reshape((1,10,1))\n",
    "    tia = calc_tia_over_units(units)\n",
    "    av_cov = np.mean([norm_av_cov(unit) for unit in units])\n",
    "    plt.figure()\n",
    "    plt.subplot(121);plt.imshow(units[1,...], interpolation='nearest');\n",
    "    plt.title('homoscedastic sample')\n",
    "    plt.subplot(122);plt.plot((np.var(units,(0,2))**0.5), range(10));plt.ylim(9, 0);plt.xlim(0,10)\n",
    "    plt.ylabel('Shape');plt.xlabel('SD');plt.title('Mean tia: '+ str(np.round(np.mean(tia),3))\n",
    "                                              + ' Mean av_cov: ' + str(np.round(av_cov,5)))\n"
   ]
  },
  {
   "cell_type": "markdown",
   "metadata": {},
   "source": [
    "Here it would seem mean av_cov is not influenced by heteroscedascity like TIA, and the reason is because this heteroscedascity is symmetric! IF we can assume for a given RF and SF that it is heteroschedastically symmetric then av_cov will on average not give an advantage to any particular profile.\n",
    "\n",
    "<h4>Best possible and worst possible TI units</h4>\n",
    "Here I am making two artificial units, min_ti has 0 translation invariance, it is a fourier basis, and max_ti_unit that is just the same response over position."
   ]
  },
  {
   "cell_type": "code",
   "execution_count": null,
   "metadata": {
    "collapsed": false,
    "scrolled": false
   },
   "outputs": [],
   "source": [
    "min_ti_unit = np.concatenate([np.imag(np.fft.rfft(np.eye(5)))[:,1:], np.real(np.fft.rfft(np.eye(5)))[:,1:]], axis =1)\n",
    "min_ti_unit = np.concatenate([min_ti_unit, np.zeros((51,4))])\n",
    "the_nans = (np.nan*np.ones((np.shape(min_ti_unit)[0],1)))\n",
    "min_ti_unit = np.concatenate([min_ti_unit, the_nans], 1)\n",
    "max_ti_unit = np.tile(min_ti_unit[:,0],(5,1)).T\n",
    "min_ti_unit = np.expand_dims(min_ti_unit.T, 0)\n",
    "min_ti_unit = xr.DataArray(min_ti_unit, dims=['unit','x','shapes'])\n",
    "max_ti_unit = np.expand_dims(max_ti_unit.T, 0)\n",
    "max_ti_unit = xr.DataArray(max_ti_unit, dims=['unit','x','shapes'])"
   ]
  },
  {
   "cell_type": "markdown",
   "metadata": {},
   "source": [
    "Here we can look at the values of these pathological cells, here rows are positions, and columns 'shapes'. Note the first just has the same response over each position, and the second has an orthogonal basis function of first sines then cosines. In this case the cells only respond to the first couple shapes."
   ]
  },
  {
   "cell_type": "code",
   "execution_count": null,
   "metadata": {
    "collapsed": false,
    "scrolled": true
   },
   "outputs": [],
   "source": [
    "print('Perfect TI')\n",
    "print(np.round(max_ti_unit[0,:,:10],3).values)\n",
    "print('Perfectly terrible TI')\n",
    "print(np.round(min_ti_unit[0,:4,:10],3).values)"
   ]
  },
  {
   "cell_type": "markdown",
   "metadata": {},
   "source": [
    "Now lets load up the V4 cells, and concatenate them with our artificial cells at the top of the unit by position by shape stack"
   ]
  },
  {
   "cell_type": "code",
   "execution_count": null,
   "metadata": {
    "collapsed": true,
    "scrolled": true
   },
   "outputs": [],
   "source": [
    "fn = top_dir +'data/responses/v4_ti_resp.nc'\n",
    "v4 = xr.open_dataset(fn)['resp'].load()\n",
    "\n",
    "v4 = v4.transpose('unit', 'x', 'shapes') \n"
   ]
  },
  {
   "cell_type": "markdown",
   "metadata": {},
   "source": [
    "Lets look at the histogram of responses for the V4 cells."
   ]
  },
  {
   "cell_type": "code",
   "execution_count": null,
   "metadata": {
    "collapsed": false,
    "scrolled": true
   },
   "outputs": [],
   "source": [
    "all_v4 = v4.values.ravel()\n",
    "all_v4 = all_v4[~np.isnan(all_v4)]\n",
    "_ = plt.hist(all_v4,log=True, bins=100);plt.xlabel('Firing Rate');plt.ylabel('Count')"
   ]
  },
  {
   "cell_type": "markdown",
   "metadata": {},
   "source": [
    "Looks good, seem to be the raw responses, without the mean subtracted.\n",
    "Now lets tack our pathological cells on to the V4 data set, and subtract the mean of the shapes at each position."
   ]
  },
  {
   "cell_type": "code",
   "execution_count": null,
   "metadata": {
    "collapsed": false,
    "scrolled": true
   },
   "outputs": [],
   "source": [
    "v4 = xr.concat([min_ti_unit, max_ti_unit, v4], dim='unit')\n",
    "v4 = v4 - v4.mean('shapes')"
   ]
  },
  {
   "cell_type": "code",
   "execution_count": null,
   "metadata": {
    "collapsed": true
   },
   "outputs": [],
   "source": [
    "def measure_TIA(unit, return_uv=False):\n",
    "    unit = unit.dropna('x', 'all').dropna('shapes', 'all')\n",
    "    unit = unit.transpose('shapes','x')\n",
    "    if return_uv:\n",
    "        u,s,v = np.linalg.svd(unit.values, compute_uv=True)\n",
    "        return (s[0]**2)/np.sum(s**2), u , s,  v\n",
    "    else:\n",
    "        s = np.linalg.svd(unit.values, compute_uv=False)\n",
    "        return (s[0]**2)/np.sum(s**2)\n",
    "    \n",
    "def norm_av_cov(unit, return_num_den=False):\n",
    "    unit = unit.transpose('shapes','x')\n",
    "    unit = unit.dropna('x', 'all').dropna('shapes', 'all').values\n",
    "    cov = np.dot(unit.T, unit)\n",
    "    cov[np.diag_indices_from(cov)] = 0\n",
    "    numerator = np.sum(np.triu(cov))\n",
    "    vlength = np.linalg.norm(unit, axis=0)\n",
    "    max_cov = np.outer(vlength.T, vlength)\n",
    "    max_cov[np.diag_indices_from(max_cov)] = 0\n",
    "    denominator= np.sum(np.triu(max_cov))\n",
    "    if return_num_den:\n",
    "        return numerator, denominator\n",
    "    else:\n",
    "        return numerator/denominator"
   ]
  },
  {
   "cell_type": "code",
   "execution_count": null,
   "metadata": {
    "collapsed": false,
    "scrolled": true
   },
   "outputs": [],
   "source": [
    "av_cov = np.array([norm_av_cov(unit) for unit in v4])\n",
    "#f = 0\n",
    "tia = np.array([measure_TIA(unit) for unit in v4])\n",
    "#f = 1/n_x\n",
    "n_x = np.array([cell.dropna('x', 'all').dropna('shapes', 'all').shape[0] for cell in v4])\n",
    "f = 1./n_x\n",
    "tin_f_nx = (tia-f)/(1-f)\n",
    "#f = max(rf)/tot_var\n",
    "max_rf_var = (v4.dropna('x', 'all')**2).sum('shapes').max('x')\n",
    "tot_var = (v4**2).sum(['shapes','x'])\n",
    "f = (max_rf_var/tot_var).values\n",
    "tin_f_maxrf = (tia-f)/(1-f)\n",
    "#f = max(max(rf), max(sf))\n",
    "max_rf_var = (v4.dropna('x', 'all')**2).sum('shapes').max('x')\n",
    "max_srf_var = (v4.dropna('shapes', 'all')**2).sum('x').max('shapes')\n",
    "max_both = xr.concat([max_rf_var,max_srf_var], dim='c').max('c')\n",
    "f = max_both/tot_var\n",
    "tin_f_max_rf_srf = ((tia-f)/(1-f)).values\n",
    "#f = mean(TI(cell resp permuted))\n",
    "n_perms = 20\n",
    "tias_mean = [] \n",
    "tias_min = [] \n",
    "for unit in v4:\n",
    "     unit = unit.dropna('x', 'all').dropna('shapes', 'all')\n",
    "     all_perm_tia = [measure_TIA(permute_unit(unit)) for ind in range(n_perms)]\n",
    "     tias_mean.append(np.mean(all_perm_tia))\n",
    "     tias_min.append(np.min(all_perm_tia))\n",
    "\n",
    "f = np.array(tias_mean)\n",
    "tin_f_tias_mean = (tia-f)/(1-f)\n",
    "\n",
    "f = np.array(tias_min)\n",
    "tin_f_tias_min = (tia-f)/(1-f)\n",
    "\n",
    "tins_lst = np.array([av_cov, tia, tin_f_nx, tin_f_maxrf, tin_f_max_rf_srf, tin_f_tias_min, tin_f_tias_mean]).T\n",
    "tins_nm = ['av_cov', 'tia', 'nx', 'maxrf', 'max_rf&srf', 'tias_min', 'tias_mean']\n",
    "tins = pd.DataFrame(tins_lst, columns=tins_nm)\n",
    "\n",
    "from pandas.tools.plotting import scatter_matrix\n",
    "axes = scatter_matrix(tins[2:], alpha=1, figsize=(12, 12),s=5, color='r')\n",
    "for i, axes1 in enumerate(axes):\n",
    "    for j, ax in enumerate(axes1):\n",
    "        if i!=j:\n",
    "            ax.plot([-1,1],[-1,1], alpha=0.6, color='k');\n",
    "            ax.plot([-1,1],[0,0],alpha=0.6, color='k');\n",
    "            ax.plot([0,0], [-1,1],alpha=0.6, color='k');\n",
    "\n",
    "            ax.set_xlim(-0.2,1.1);ax.set_ylim(-0.2,1.1);\n",
    "            ax.scatter(tins.loc[:1].values[:,j],tins.loc[0:1].values[:,i], color=['b','g'], s=5)\n",
    "        else:\n",
    "            ax.set_xlim(-0.2,1.1);            \n",
    "_ = plt.tight_layout()\n",
    "_=plt.show()\n"
   ]
  },
  {
   "cell_type": "markdown",
   "metadata": {},
   "source": [
    "At a glance it would seem F=1/n doesn't do much, max rf does about the same as anyting else, except dividing max rf and sf seems to change the value of one of our cells a little bit. \n",
    "One problem we quickly note is that using TIAs mean does give us a negative value for our perfectly translation invariant unit.\n",
    "Now our worse fear is that our TI is mainly being driven by units that are sparse over shape. Let look at real units and see if we can find at least a correlation to support this."
   ]
  },
  {
   "cell_type": "code",
   "execution_count": null,
   "metadata": {
    "collapsed": false,
    "scrolled": true
   },
   "outputs": [],
   "source": [
    "def kurtosis(da):\n",
    "    da = da.dropna('shapes')\n",
    "    da = da.transpose('shapes','unit')\n",
    "    mu = da.mean('shapes')\n",
    "    sig = da.reduce(np.nanvar, dim='shapes')\n",
    "    k = (((da - mu)**4).sum('shapes',skipna=True)/da.shapes.shape[0])/(sig**2)\n",
    "    return k\n",
    "#lets find kurtosis of our SP\n",
    "fn = top_dir +'data/responses/v4_ti_resp.nc'\n",
    "v4 = xr.open_dataset(fn)['resp'].load()\n",
    "v4 = v4.transpose('unit', 'x', 'shapes') \n",
    "v4 = v4 - v4.mean('shapes')\n",
    "sp = v4.var('x')\n",
    "k = kurtosis(sp)\n",
    "\n",
    "#f = 0\n",
    "tia = np.array([measure_TIA(unit) for unit in v4])\n",
    "max_rf_var = (v4.dropna('x', 'all')**2).sum('shapes').max('x')\n",
    "tot_var = (v4**2).sum(['shapes','x'])\n",
    "f = (max_rf_var/tot_var).values\n",
    "tin_f_maxrf = (tia-f)/(1-f)\n",
    "print(sp.shape)\n",
    "print(tin_f_maxrf.shape)\n",
    "plt.scatter(k, tia);plt.ylim(0,1);plt.ylabel('tia');plt.xlabel('k');\n",
    "print('r = ' +  str(np.corrcoef([k,tia])[0,1]))\n",
    "\n",
    "plt.figure()\n",
    "plt.scatter(k, tin_f_maxrf);plt.ylim(0,1);plt.ylabel('tin f=max_rf_var');plt.xlabel('k');\n",
    "print('r = ' +  str(np.corrcoef([k,tin_f_maxrf])[0,1]))\n",
    "\n",
    "av_cov = np.array([norm_av_cov(unit) for unit in v4])\n",
    "plt.figure()\n",
    "plt.scatter(k, tin_f_maxrf);plt.ylim(0,1);plt.ylabel('tin f=max_rf_var');plt.xlabel('k');\n",
    "print('r = ' +  str(np.corrcoef([k, av_cov])[0,1]))"
   ]
  },
  {
   "cell_type": "markdown",
   "metadata": {},
   "source": [
    "There is some correlation which either means sparser units tend to be more TI, or sparser units are biased to have a higher TIN.\n",
    "\n",
    "Lets look at the individual plots:"
   ]
  },
  {
   "cell_type": "code",
   "execution_count": null,
   "metadata": {
    "collapsed": false,
    "scrolled": true
   },
   "outputs": [],
   "source": [
    "for ti_in in np.argsort(tin_f_maxrf)[-50::1]:\n",
    "    plt.figure(figsize=(10,2))\n",
    "    plt.imshow(v4[ti_in].dropna('x', 'all').dropna('shapes', 'all'), interpolation='nearest')\n",
    "    plt.colorbar()\n",
    "    plt.title('tin = ' + str(np.round(tin_f_maxrf[ti_in],3)) + ' k = '\n",
    "              + str(np.round(k[ti_in].values, 3)))\n",
    "    plt.xlabel('shape');plt.ylabel('pos')\n",
    "    \n",
    "    tia, u,s, v = measure_TIA(v4[ti_in], return_uv=True)\n",
    "    plt.figure(figsize=(10,2))\n",
    "    plt.imshow(s[0]*np.dot(u[:,0].reshape(len(u),1), v[0,:].reshape(1,len(v))).T,\n",
    "               interpolation='nearest')\n",
    "    plt.colorbar()\n",
    "    plt.title('R estimate')\n",
    "    plt.xlabel('shape');plt.ylabel('pos')\n",
    "    plt.figure(figsize=(6,2))\n",
    "    plt.subplot(121);plt.plot(u[:,0]);plt.xlabel('shape');plt.ylabel('SP')\n",
    "    plt.subplot(122);plt.plot(v[0,:]*s[0]);plt.xlabel('pos');plt.ylabel('RF');plt.tight_layout()\n",
    "    "
   ]
  },
  {
   "cell_type": "code",
   "execution_count": null,
   "metadata": {
    "collapsed": true,
    "scrolled": true
   },
   "outputs": [],
   "source": []
  },
  {
   "cell_type": "code",
   "execution_count": null,
   "metadata": {
    "collapsed": true
   },
   "outputs": [],
   "source": []
  }
 ],
 "metadata": {
  "kernelspec": {
   "display_name": "Python 2",
   "language": "python",
   "name": "python2"
  },
  "language_info": {
   "codemirror_mode": {
    "name": "ipython",
    "version": 2
   },
   "file_extension": ".py",
   "mimetype": "text/x-python",
   "name": "python",
   "nbconvert_exporter": "python",
   "pygments_lexer": "ipython2",
   "version": "2.7.10"
  }
 },
 "nbformat": 4,
 "nbformat_minor": 0
}
