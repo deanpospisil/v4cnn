{
 "cells": [
  {
   "cell_type": "markdown",
   "metadata": {},
   "source": [
    "A goal of visual neuroscience is to develop image computable models of units in the visual stream. Units further along in the ventral stream for a long time have seemed out of reach. Recently CNN's trained on object recongition tasks have been able to account for roughly half the variance of units in IT and V4. Unfortunately these models are not easily interpretable in part because the numbers of parameters is very high and so what about these responses they explain is unknown it could be trivial, or important properties."
   ]
  }
 ],
 "metadata": {
  "kernelspec": {
   "display_name": "Python 2",
   "language": "python",
   "name": "python2"
  },
  "language_info": {
   "codemirror_mode": {
    "name": "ipython",
    "version": 2
   },
   "file_extension": ".py",
   "mimetype": "text/x-python",
   "name": "python",
   "nbconvert_exporter": "python",
   "pygments_lexer": "ipython2",
   "version": "2.7.10"
  }
 },
 "nbformat": 4,
 "nbformat_minor": 0
}
